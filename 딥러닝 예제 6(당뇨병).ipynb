{
 "cells": [
  {
   "cell_type": "code",
   "execution_count": 1,
   "metadata": {},
   "outputs": [],
   "source": [
    "import numpy as np\n",
    "from datetime import datetime\n",
    "\n",
    "np.random.seed(0)\n",
    "\n",
    "def numerical_derivative(f, x):\n",
    "    delta_x = 1e-4 # 0.0001\n",
    "    grad = np.zeros_like(x)\n",
    "    \n",
    "    it = np.nditer(x, flags=['multi_index'], op_flags=['readwrite'])\n",
    "    \n",
    "    while not it.finished:\n",
    "        idx = it.multi_index        \n",
    "        tmp_val = x[idx]\n",
    "        x[idx] = float(tmp_val) + delta_x\n",
    "        fx1 = f(x) # f(x+delta_x)\n",
    "        \n",
    "        x[idx] = float(tmp_val) - delta_x \n",
    "        fx2 = f(x) # f(x-delta_x)\n",
    "        grad[idx] = (fx1 - fx2) / (2*delta_x)\n",
    "        \n",
    "        x[idx] = tmp_val \n",
    "        it.iternext()   \n",
    "        \n",
    "    return grad\n",
    "\n",
    "def sigmoid(x):\n",
    "    return 1 / (1 + np.exp(-x))"
   ]
  },
  {
   "cell_type": "code",
   "execution_count": 6,
   "metadata": {},
   "outputs": [],
   "source": [
    "class Diabetes:\n",
    "    def __init__(self, i_node, h_node, o_node, lr):\n",
    "        self.learning_rate = lr\n",
    "        \n",
    "        self.W2 = np.random.rand(i_node, h_node)\n",
    "        self.b2 = np.random.rand(1)\n",
    "        \n",
    "        self.W3 = np.random.rand(h_node, o_node)\n",
    "        self.b3 = np.random.rand(1)\n",
    "        \n",
    "        print(\"========== Diabetes Object is created. ==========\\n\")\n",
    "        \n",
    "    def feed_forward(self, x_data, t_data):\n",
    "        delta = 1e-7\n",
    "        \n",
    "        z2 = np.dot(x_data, self.W2) + self.b2\n",
    "        a2 = sigmoid(z2)\n",
    "        \n",
    "        z3 = np.dot(a2, self.W3) + self.b3\n",
    "        a3 = sigmoid(z3)\n",
    "        \n",
    "        return -np.sum((t_data*np.log10(a3 + delta)) + ((1 - t_data)*np.log10((1 - a3) + delta)))\n",
    "\n",
    "    def loss_val(self, x_data, t_data):\n",
    "        delta = 1e-7\n",
    "        \n",
    "        z2 = np.dot(x_data, self.W2) + self.b2\n",
    "        a2 = sigmoid(z2)\n",
    "        \n",
    "        z3 = np.dot(a2, self.W3) + self.b3\n",
    "        a3 = sigmoid(z3)\n",
    "        \n",
    "        return -np.sum((t_data*np.log10(a3 + delta)) + ((1 - t_data)*np.log10((1 - a3) + delta)))\n",
    "    \n",
    "    def train(self, x_data, t_data):\n",
    "        f = lambda x : self.feed_forward(x_data, t_data)\n",
    "        \n",
    "        self.W2 -= self.learning_rate * numerical_derivative(f, self.W2)\n",
    "        self.b2 -= self.learning_rate * numerical_derivative(f, self.b2)\n",
    "        self.W3 -= self.learning_rate * numerical_derivative(f, self.W3)\n",
    "        self.b3 -= self.learning_rate * numerical_derivative(f, self.b3)\n",
    "        \n",
    "    def predict(self, test_data):\n",
    "        z2 = np.dot(test_data, self.W2) + self.b2\n",
    "        a2 = sigmoid(z2)\n",
    "        \n",
    "        z3 = np.dot(a2, self.W3) + self.b3\n",
    "        a3 = sigmoid(z3)\n",
    "        \n",
    "        if a3 >= 0.5:\n",
    "            result = 1\n",
    "        else:\n",
    "            result = 0\n",
    "    \n",
    "        return a3, result\n",
    "    \n",
    "    def accuracy(self, test_data):\n",
    "        input_data = test_data[ :, 0:-1]\n",
    "        target_data = test_data[ :, -1]\n",
    "        \n",
    "        matched_list = []\n",
    "        not_matched_list = []\n",
    "        \n",
    "        for index in range(len(input_data)):\n",
    "            (real_val, logical_val) = self.predict(input_data[index])\n",
    "            \n",
    "            if logical_val == target_data[index]:\n",
    "                matched_list.append(index)sp\n",
    "                \n",
    "            else:\n",
    "                not_matched_list.append(index)\n",
    "                \n",
    "        accuracy_val = len(matched_list) / len(input_data)\n",
    "        \n",
    "        return accuracy_val"
   ]
  },
  {
   "cell_type": "code",
   "execution_count": 3,
   "metadata": {},
   "outputs": [],
   "source": [
    "try:\n",
    "    training_data = np.loadtxt('./diabetes.csv', delimiter=',', dtype=np.float32)\n",
    "except Exception as err:\n",
    "    print(str(err))"
   ]
  },
  {
   "cell_type": "code",
   "execution_count": 8,
   "metadata": {},
   "outputs": [
    {
     "name": "stdout",
     "output_type": "stream",
     "text": [
      "========== Diabetes Object is created. ==========\n",
      "\n",
      "Neural Network Learning using Numerical Derivative...\n",
      "epochs =  0  :  loss value =  0.20280697461624864\n",
      "epochs =  2  :  loss value =  0.23595746933235792\n",
      "epochs =  4  :  loss value =  0.21547117323918705\n",
      "epochs =  6  :  loss value =  0.19959982839499749\n",
      "epochs =  8  :  loss value =  0.18768760586946792\n",
      "epochs =  10  :  loss value =  0.1772902482206723\n",
      "epochs =  12  :  loss value =  0.1668075499592822\n",
      "epochs =  14  :  loss value =  0.15559631901894755\n",
      "epochs =  16  :  loss value =  0.1439854696132583\n",
      "epochs =  18  :  loss value =  0.13278098110416228\n",
      "epochs =  20  :  loss value =  0.12259720479942088\n",
      "epochs =  22  :  loss value =  0.1136578996800299\n",
      "epochs =  24  :  loss value =  0.10592971543328569\n",
      "epochs =  26  :  loss value =  0.09927189374235942\n",
      "epochs =  28  :  loss value =  0.09351872252712741\n",
      "epochs =  30  :  loss value =  0.08851430628483108\n",
      "epochs =  32  :  loss value =  0.08412401385120101\n",
      "epochs =  34  :  loss value =  0.0802360949219963\n",
      "epochs =  36  :  loss value =  0.07675967600166478\n",
      "epochs =  38  :  loss value =  0.07362175841696568\n",
      "epochs =  40  :  loss value =  0.07076422848354512\n",
      "epochs =  42  :  loss value =  0.06814120183139703\n",
      "epochs =  44  :  loss value =  0.06571675122501376\n",
      "epochs =  46  :  loss value =  0.06346297708451487\n",
      "epochs =  48  :  loss value =  0.061358365814654\n",
      "\n",
      "Elapsed Time =>  0:27:14.591552\n"
     ]
    },
    {
     "ename": "NameError",
     "evalue": "name 'loaded_data' is not defined",
     "output_type": "error",
     "traceback": [
      "\u001b[1;31m---------------------------------------------------------------------------\u001b[0m",
      "\u001b[1;31mNameError\u001b[0m                                 Traceback (most recent call last)",
      "\u001b[1;32m<ipython-input-8-dcc2c1108879>\u001b[0m in \u001b[0;36m<module>\u001b[1;34m\u001b[0m\n\u001b[0;32m     26\u001b[0m \u001b[0mprint\u001b[0m\u001b[1;33m(\u001b[0m\u001b[1;34m\"Elapsed Time => \"\u001b[0m\u001b[1;33m,\u001b[0m \u001b[0mend_time\u001b[0m \u001b[1;33m-\u001b[0m \u001b[0mstart_time\u001b[0m\u001b[1;33m)\u001b[0m\u001b[1;33m\u001b[0m\u001b[1;33m\u001b[0m\u001b[0m\n\u001b[0;32m     27\u001b[0m \u001b[1;33m\u001b[0m\u001b[0m\n\u001b[1;32m---> 28\u001b[1;33m \u001b[0mobj1\u001b[0m\u001b[1;33m.\u001b[0m\u001b[0maccuracy\u001b[0m\u001b[1;33m(\u001b[0m\u001b[0mloaded_data\u001b[0m\u001b[1;33m)\u001b[0m\u001b[1;33m\u001b[0m\u001b[1;33m\u001b[0m\u001b[0m\n\u001b[0m",
      "\u001b[1;31mNameError\u001b[0m: name 'loaded_data' is not defined"
     ]
    }
   ],
   "source": [
    "i_node = 8\n",
    "h_node = 30\n",
    "o_node = 1\n",
    "lr = 1e-2\n",
    "epoch = 50\n",
    "\n",
    "obj1 = Diabetes(i_node, h_node, o_node, lr)\n",
    "\n",
    "print(\"Neural Network Learning using Numerical Derivative...\\n\")\n",
    "\n",
    "start_time = datetime.now()\n",
    "\n",
    "for step in range(epoch):\n",
    "    for index in range(len(training_data)):\n",
    "        input_data = training_data[index, 0:-1]\n",
    "        target_data = training_data[index, [-1]]\n",
    "        \n",
    "        obj1.train(input_data, target_data)\n",
    "        \n",
    "    if step % (int)(0.05*epoch) == 0:\n",
    "        print(\"epochs = \", step, \" : \", \"loss value = \", obj1.loss_val(input_data, target_data))\n",
    "\n",
    "end_time = datetime.now()\n",
    "        \n",
    "print(\"\")\n",
    "print(\"Elapsed Time => \", end_time - start_time)"
   ]
  },
  {
   "cell_type": "code",
   "execution_count": 9,
   "metadata": {},
   "outputs": [
    {
     "data": {
      "text/plain": [
       "0.7681159420289855"
      ]
     },
     "execution_count": 9,
     "metadata": {},
     "output_type": "execute_result"
    }
   ],
   "source": [
    "obj1.accuracy(training_data)"
   ]
  }
 ],
 "metadata": {
  "kernelspec": {
   "display_name": "Python 3",
   "language": "python",
   "name": "python3"
  },
  "language_info": {
   "codemirror_mode": {
    "name": "ipython",
    "version": 3
   },
   "file_extension": ".py",
   "mimetype": "text/x-python",
   "name": "python",
   "nbconvert_exporter": "python",
   "pygments_lexer": "ipython3",
   "version": "3.7.6"
  }
 },
 "nbformat": 4,
 "nbformat_minor": 4
}
