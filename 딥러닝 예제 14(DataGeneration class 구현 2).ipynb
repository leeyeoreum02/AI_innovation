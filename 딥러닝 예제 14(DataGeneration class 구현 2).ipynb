{
 "cells": [
  {
   "cell_type": "code",
   "execution_count": 3,
   "metadata": {},
   "outputs": [],
   "source": [
    "import numpy as np"
   ]
  },
  {
   "cell_type": "code",
   "execution_count": 22,
   "metadata": {},
   "outputs": [],
   "source": [
    "class DataGeneration:\n",
    "    def __init__(self, file_path, split_rate):\n",
    "        try:\n",
    "            self.data = np.loadtxt(file_path, delimiter=',', dtype=np.float32)\n",
    "        except Exception as err:\n",
    "            print('[DataGeneration::generate()]  ', str(err))\n",
    "            raise Exception(str(err))\n",
    "            \n",
    "        self.split_rate = split_rate\n",
    "        \n",
    "    def generate(self):\n",
    "        np.random.shuffle(self.data)\n",
    "        \n",
    "        split_point = int(len(self.data)*self.split_rate)\n",
    "        \n",
    "        training_data = self.data[ :split_point]\n",
    "        test_data = self.data[split_point: ]\n",
    "    \n",
    "        print(\"training_data.shape = \", training_data.shape, \", test_data.shape = \", test_data.shape)\n",
    "        print(\"===============================================\")\n",
    "        \n",
    "        self.__display_target_distribution()\n",
    "        \n",
    "        return training_data, test_data\n",
    "    \n",
    "    def __display_target_distribution(self):\n",
    "        data_classification = [self.data[ : , -1: ], training_data[ : , -1: ], test_data[ : ,  -1: ]]\n",
    "        data_name = ['original', 'training', 'test']\n",
    "        \n",
    "        for data_type in range(len(data_classification)):        \n",
    "            unique, counts = np.unique(data_classification[data_type], return_counts=True)\n",
    "            \n",
    "            for index in range(len(unique)):\n",
    "                print(\"unique number of {} data = \".format(data_name[data_type]), unique[index], \"count = \", counts[index])\n",
    "    \n",
    "            for index in range(len(unique)):\n",
    "                ratio = counts[index] / sum(counts)\n",
    "            \n",
    "                print(\"unique number of {} data = \".format(data_name[data_type]), unique[index], \"ratio = \", round(ratio, 2), \"%\")\n",
    "                \n",
    "            print(\"===============================================\")"
   ]
  },
  {
   "cell_type": "code",
   "execution_count": 23,
   "metadata": {},
   "outputs": [
    {
     "name": "stdout",
     "output_type": "stream",
     "text": [
      "training_data.shape =  (329, 18) , test_data.shape =  (141, 18)\n",
      "===============================================\n",
      "unique number of original data =  0.0 count =  400\n",
      "unique number of original data =  1.0 count =  70\n",
      "unique number of original data =  0.0 ratio =  0.85 %\n",
      "unique number of original data =  1.0 ratio =  0.15 %\n",
      "===============================================\n",
      "unique number of training data =  0.0 count =  280\n",
      "unique number of training data =  1.0 count =  49\n",
      "unique number of training data =  0.0 ratio =  0.85 %\n",
      "unique number of training data =  1.0 ratio =  0.15 %\n",
      "===============================================\n",
      "unique number of test data =  0.0 count =  120\n",
      "unique number of test data =  1.0 count =  21\n",
      "unique number of test data =  0.0 ratio =  0.85 %\n",
      "unique number of test data =  1.0 ratio =  0.15 %\n",
      "===============================================\n"
     ]
    }
   ],
   "source": [
    "try:\n",
    "    data_obj = DataGeneration('./ThoracicSurgery.csv', 0.7)\n",
    "\n",
    "    (training_data, test_data) = data_obj.generate()\n",
    "    \n",
    "except Exception as err:\n",
    "    print('Exception Occur !!')\n",
    "    print(str(err))"
   ]
  }
 ],
 "metadata": {
  "kernelspec": {
   "display_name": "Python 3",
   "language": "python",
   "name": "python3"
  },
  "language_info": {
   "codemirror_mode": {
    "name": "ipython",
    "version": 3
   },
   "file_extension": ".py",
   "mimetype": "text/x-python",
   "name": "python",
   "nbconvert_exporter": "python",
   "pygments_lexer": "ipython3",
   "version": "3.7.6"
  }
 },
 "nbformat": 4,
 "nbformat_minor": 4
}
