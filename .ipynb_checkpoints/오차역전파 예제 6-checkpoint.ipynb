{
 "cells": [
  {
   "cell_type": "code",
   "execution_count": 1,
   "metadata": {},
   "outputs": [],
   "source": [
    "import numpy as np\n",
    "import matplotlib.pyplot as plt\n",
    "\n",
    "%matplotlib inline\n",
    "\n",
    "def sigmoid(x):\n",
    "    return 1 / (1+np.exp(-x))"
   ]
  },
  {
   "cell_type": "code",
   "execution_count": 2,
   "metadata": {},
   "outputs": [],
   "source": [
    "class DataGeneration:\n",
    "    \n",
    "    # target_position = 0 (첫번째열이 정답데이터), target_position=-1 (마지막열이 정답데이터)\n",
    "    def __init__(self, name, file_path, seperation_rate, target_position=-1):\n",
    "        \n",
    "        self.name = name\n",
    "        \n",
    "        self.file_path = file_path\n",
    "        \n",
    "        self.seperation_rate = seperation_rate\n",
    "        \n",
    "        if (target_position == -1  or  target_position == 0):      \n",
    "            self.target_position = target_position\n",
    "        \n",
    "        else:\n",
    "            err_str = 'target_position must be -1 or 0'            \n",
    "            raise Exception(err_str)    \n",
    "            \n",
    "    \n",
    "    # print data target distribution \n",
    "    # str_of_kind : 'original data' or  'training data'  or  'test data'\n",
    "    def __display_target_distribution(self, data, str_of_kind='original data'):\n",
    "        \n",
    "        print('=======================================================================================================')\n",
    "        \n",
    "        target_data = data[ :, self.target_position ]\n",
    "        \n",
    "        # numpy.unique() 사용하여 loaded data target 분포 확인\n",
    "        unique, counts = np.unique(target_data, return_counts=True)\n",
    "\n",
    "        unique_target = []\n",
    "    \n",
    "        for index in range(len(unique)):\n",
    "        \n",
    "            print('[DataGeneration] unique number of ' + str_of_kind + ' = ', unique[index], ', count = ', counts[index])\n",
    "        \n",
    "            unique_target.append(unique[index])\n",
    "\n",
    "        for index in range(len(unique_target)):\n",
    "        \n",
    "            print('[DataGeneration] unique number of ' + str_of_kind + ' = ', unique_target[index], ', ratio = ', np.round(100 * counts[index] / (target_data.shape[0]), 2), ' %')\n",
    "    \n",
    "        print('=======================================================================================================')\n",
    "        \n",
    "        \n",
    "    # numpy.random.shuffle()  이용하여 training_data / test_data 생성\n",
    "    def generate(self):\n",
    "    \n",
    "        # 데이터 불러오기, 파일이 없는 경우 exception 발생\n",
    "\n",
    "        try:\n",
    "            loaded_data = np.loadtxt(self.file_path, delimiter=',', dtype=np.float32)\n",
    "            \n",
    "        except Exception as err:\n",
    "            print('[DataGeneration::generate()]  ', str(err))\n",
    "            raise Exception(str(err))\n",
    "\n",
    "        print(\"[DataGeneration]  loaded_data.shape = \", loaded_data.shape)\n",
    "            \n",
    "        # print the target distribution of original data \n",
    "        \n",
    "        self.__display_target_distribution(loaded_data, 'original data')\n",
    "        \n",
    "        \n",
    "        # 분리비율에 맞게 테스트데이터로 분리\n",
    "        total_data_num = len(loaded_data)\n",
    "        test_data_num = int(len(loaded_data) * self.seperation_rate)\n",
    "\n",
    "        # numpy.random.shuffle 을 이용하여 랜덤하게 데이터 섞기\n",
    "        np.random.shuffle(loaded_data)\n",
    "        \n",
    "        # test_data 는 0 : test_data_num\n",
    "        \n",
    "        \n",
    "        test_data = loaded_data[ 0:test_data_num ]\n",
    "\n",
    "        # training_data 는 test_data_num 부터 끝까지 \n",
    "        training_data = loaded_data[ test_data_num: ]\n",
    "\n",
    "        # display target distribution of generated data \n",
    "        \n",
    "        self.__display_target_distribution(training_data, 'training data')\n",
    "        \n",
    "        self.__display_target_distribution(test_data, 'test data')\n",
    "        \n",
    "        return training_data, test_data"
   ]
  },
  {
   "cell_type": "code",
   "execution_count": 3,
   "metadata": {},
   "outputs": [],
   "source": [
    "from datetime import datetime      # datetime.now() 를 이용하여 학습 경과 시간 측정\n",
    "\n",
    "class NeuralNetwork:\n",
    "    \n",
    "    def __init__(self, input_nodes, hidden_nodes, output_nodes, learning_rate):\n",
    "        \n",
    "        self.input_nodes = input_nodes\n",
    "        self.hidden_nodes = hidden_nodes\n",
    "        self.output_nodes = output_nodes\n",
    "        \n",
    "        # 은닉층 가중치  W2 = (784 X 100) Xavier/He 방법으로 self.W2 가중치 초기화\n",
    "        self.W2 = np.random.randn(self.input_nodes, self.hidden_nodes) / np.sqrt(self.input_nodes/2)\n",
    "        self.b2 = np.random.rand(self.hidden_nodes)      \n",
    "        \n",
    "        # 출력층 가중치는 W3 = (100X10)  Xavier/He 방법으로 self.W3 가중치 초기화\n",
    "        self.W3 = np.random.randn(self.hidden_nodes, self.output_nodes) / np.sqrt(self.hidden_nodes/2)\n",
    "        self.b3 = np.random.rand(self.output_nodes)      \n",
    "                        \n",
    "        # 출력층 선형회귀 값 Z3, 출력값 A3 정의 (모두 행렬로 표시)\n",
    "        self.Z3 = np.zeros([1,output_nodes])\n",
    "        self.A3 = np.zeros([1,output_nodes])\n",
    "        \n",
    "        # 은닉층 선형회귀 값 Z2, 출력값 A2 정의 (모두 행렬로 표시)\n",
    "        self.Z2 = np.zeros([1,hidden_nodes])\n",
    "        self.A2 = np.zeros([1,hidden_nodes])\n",
    "        \n",
    "        # 입력층 선형회귀 값 Z1, 출력값 A1 정의 (모두 행렬로 표시)\n",
    "        self.Z1 = np.zeros([1,input_nodes])    \n",
    "        self.A1 = np.zeros([1,input_nodes])       \n",
    "        \n",
    "        # 학습률 learning rate 초기화\n",
    "        self.learning_rate = learning_rate\n",
    "        \n",
    "    def feed_forward(self):  \n",
    "        \n",
    "        delta = 1e-7    # log 무한대 발산 방지\n",
    "        \n",
    "        # 입력층 선형회귀 값 Z1, 출력값 A1 계산\n",
    "        self.Z1 = self.input_data\n",
    "        self.A1 = self.input_data\n",
    "        \n",
    "        # 은닉층 선형회귀 값 Z2, 출력값 A2 계산    \n",
    "        self.Z2 = np.dot(self.A1, self.W2) + self.b2\n",
    "        self.A2 = sigmoid(self.Z2)\n",
    "        \n",
    "        # 출력층 선형회귀 값 Z3, 출력값 A3 계산\n",
    "        self.Z3 = np.dot(self.A2, self.W3) + self.b3\n",
    "        self.A3 = sigmoid(self.Z3)\n",
    "        \n",
    "        return  -np.sum( self.target_data*np.log(self.A3 + delta) + (1-self.target_data)*np.log((1 - self.A3)+delta ) )    \n",
    "    \n",
    "    def loss_val(self):\n",
    "        \n",
    "        delta = 1e-7    # log 무한대 발산 방지\n",
    "        \n",
    "        # 입력층 선형회귀 값 Z1, 출력값 A1 계산\n",
    "        self.Z1 = self.input_data\n",
    "        self.A1 = self.input_data\n",
    "        \n",
    "        # 은닉층 선형회귀 값 Z2, 출력값 A2 계산    \n",
    "        self.Z2 = np.dot(self.A1, self.W2) + self.b2\n",
    "        self.A2 = sigmoid(self.Z2)\n",
    "        \n",
    "        # 출력층 선형회귀 값 Z3, 출력값 A3 계산\n",
    "        self.Z3 = np.dot(self.A2, self.W3) + self.b3\n",
    "        self.A3 = sigmoid(self.Z3)\n",
    "        \n",
    "        return  -np.sum( self.target_data*np.log(self.A3 + delta) + (1-self.target_data)*np.log((1 - self.A3)+delta ) )\n",
    "   \n",
    "    \n",
    "    # 정확도 측정함수 \n",
    "    def accuracy(self, test_input_data, test_target_data):\n",
    "        \n",
    "        \n",
    "        matched_list = []\n",
    "        not_matched_list = []\n",
    "        index_label_prediction_list = []\n",
    "        \n",
    "        \n",
    "        for index in range(len(test_input_data)):\n",
    "                        \n",
    "            label = int(test_target_data[index])\n",
    "                        \n",
    "            # one-hot encoding을 위한 데이터 정규화 (data normalize)\n",
    "            data = (test_input_data[index] / 255.0 * 0.99) + 0.01\n",
    "                  \n",
    "            # predict 를 위해서 vector 을 matrix 로 변환하여 인수로 넘겨줌\n",
    "            predicted_num = self.predict(np.array(data, ndmin=2)) \n",
    "        \n",
    "            if label == predicted_num:\n",
    "                matched_list.append(index)\n",
    "                \n",
    "            else:\n",
    "                \n",
    "                not_matched_list.append(index)\n",
    "                \n",
    "                not_matched_target_data = label\n",
    "\n",
    "                not_matched_data_index = index\n",
    "    \n",
    "                not_matched_predicted_num = predicted_num\n",
    "               \n",
    "                index_label_prediction = (not_matched_data_index, not_matched_target_data, not_matched_predicted_num)\n",
    "                \n",
    "                index_label_prediction_list.append(index_label_prediction)\n",
    "        #print(\"Current Accuracy = \", (len(matched_list)/(len(test_input_data))) )\n",
    "        \n",
    "        accuracy_val = (len(matched_list)/(len(test_input_data)))\n",
    "        \n",
    "        \n",
    "        return accuracy_val, index_label_prediction_list, not_matched_list\n",
    "    \n",
    "    \n",
    "    def train(self, input_data, target_data):   # input_data : 784 개, target_data : 10개\n",
    "        \n",
    "        self.target_data = target_data    \n",
    "        self.input_data = input_data\n",
    "        \n",
    "        # 먼저 feed forward 를 통해서 최종 출력값과 이를 바탕으로 현재의 에러 값 계산\n",
    "        loss_val = self.feed_forward()\n",
    "        \n",
    "        # 출력층 loss 인 loss_3 구함\n",
    "        loss_3 = (self.A3-self.target_data) * self.A3 * (1-self.A3)\n",
    "        \n",
    "        # 출력층 가중치 W3, 출력층 바이어스 b3 업데이트\n",
    "        self.W3 = self.W3 - self.learning_rate * np.dot(self.A2.T, loss_3)   \n",
    "        \n",
    "        self.b3 = self.b3 - self.learning_rate * loss_3  \n",
    "        \n",
    "        # 은닉층 loss 인 loss_2 구함        \n",
    "        loss_2 = np.dot(loss_3, self.W3.T) * self.A2 * (1-self.A2)\n",
    "        \n",
    "        # 은닉층 가중치 W2, 은닉층 바이어스 b2 업데이트\n",
    "        self.W2 = self.W2 - self.learning_rate * np.dot(self.A1.T, loss_2)   \n",
    "        \n",
    "        self.b2 = self.b2 - self.learning_rate * loss_2\n",
    "        \n",
    "    def predict(self, input_data):        # input_data 는 행렬로 입력됨 즉, (1, 784) shape 을 가짐        \n",
    "        \n",
    "        Z2 = np.dot(input_data, self.W2) + self.b2\n",
    "        A2 = sigmoid(Z2)\n",
    "        \n",
    "        Z3 = np.dot(A2, self.W3) + self.b3\n",
    "        A3 = sigmoid(Z3)\n",
    "        \n",
    "        predicted_num = np.argmax(A3)\n",
    "    \n",
    "        return predicted_num"
   ]
  },
  {
   "cell_type": "code",
   "execution_count": 4,
   "metadata": {},
   "outputs": [
    {
     "name": "stdout",
     "output_type": "stream",
     "text": [
      "[DataGeneration]  loaded_data.shape =  (60000, 785)\n",
      "=======================================================================================================\n",
      "[DataGeneration] unique number of original data =  0.0 , count =  5923\n",
      "[DataGeneration] unique number of original data =  1.0 , count =  6742\n",
      "[DataGeneration] unique number of original data =  2.0 , count =  5958\n",
      "[DataGeneration] unique number of original data =  3.0 , count =  6131\n",
      "[DataGeneration] unique number of original data =  4.0 , count =  5842\n",
      "[DataGeneration] unique number of original data =  5.0 , count =  5421\n",
      "[DataGeneration] unique number of original data =  6.0 , count =  5918\n",
      "[DataGeneration] unique number of original data =  7.0 , count =  6265\n",
      "[DataGeneration] unique number of original data =  8.0 , count =  5851\n",
      "[DataGeneration] unique number of original data =  9.0 , count =  5949\n",
      "[DataGeneration] unique number of original data =  0.0 , ratio =  9.87  %\n",
      "[DataGeneration] unique number of original data =  1.0 , ratio =  11.24  %\n",
      "[DataGeneration] unique number of original data =  2.0 , ratio =  9.93  %\n",
      "[DataGeneration] unique number of original data =  3.0 , ratio =  10.22  %\n",
      "[DataGeneration] unique number of original data =  4.0 , ratio =  9.74  %\n",
      "[DataGeneration] unique number of original data =  5.0 , ratio =  9.04  %\n",
      "[DataGeneration] unique number of original data =  6.0 , ratio =  9.86  %\n",
      "[DataGeneration] unique number of original data =  7.0 , ratio =  10.44  %\n",
      "[DataGeneration] unique number of original data =  8.0 , ratio =  9.75  %\n",
      "[DataGeneration] unique number of original data =  9.0 , ratio =  9.91  %\n",
      "=======================================================================================================\n",
      "=======================================================================================================\n",
      "[DataGeneration] unique number of training data =  0.0 , count =  3877\n",
      "[DataGeneration] unique number of training data =  1.0 , count =  4364\n",
      "[DataGeneration] unique number of training data =  2.0 , count =  3854\n",
      "[DataGeneration] unique number of training data =  3.0 , count =  4020\n",
      "[DataGeneration] unique number of training data =  4.0 , count =  3833\n",
      "[DataGeneration] unique number of training data =  5.0 , count =  3481\n",
      "[DataGeneration] unique number of training data =  6.0 , count =  3873\n",
      "[DataGeneration] unique number of training data =  7.0 , count =  4065\n",
      "[DataGeneration] unique number of training data =  8.0 , count =  3774\n",
      "[DataGeneration] unique number of training data =  9.0 , count =  3859\n",
      "[DataGeneration] unique number of training data =  0.0 , ratio =  9.94  %\n",
      "[DataGeneration] unique number of training data =  1.0 , ratio =  11.19  %\n",
      "[DataGeneration] unique number of training data =  2.0 , ratio =  9.88  %\n",
      "[DataGeneration] unique number of training data =  3.0 , ratio =  10.31  %\n",
      "[DataGeneration] unique number of training data =  4.0 , ratio =  9.83  %\n",
      "[DataGeneration] unique number of training data =  5.0 , ratio =  8.93  %\n",
      "[DataGeneration] unique number of training data =  6.0 , ratio =  9.93  %\n",
      "[DataGeneration] unique number of training data =  7.0 , ratio =  10.42  %\n",
      "[DataGeneration] unique number of training data =  8.0 , ratio =  9.68  %\n",
      "[DataGeneration] unique number of training data =  9.0 , ratio =  9.89  %\n",
      "=======================================================================================================\n",
      "=======================================================================================================\n",
      "[DataGeneration] unique number of test data =  0.0 , count =  2046\n",
      "[DataGeneration] unique number of test data =  1.0 , count =  2378\n",
      "[DataGeneration] unique number of test data =  2.0 , count =  2104\n",
      "[DataGeneration] unique number of test data =  3.0 , count =  2111\n",
      "[DataGeneration] unique number of test data =  4.0 , count =  2009\n",
      "[DataGeneration] unique number of test data =  5.0 , count =  1940\n",
      "[DataGeneration] unique number of test data =  6.0 , count =  2045\n",
      "[DataGeneration] unique number of test data =  7.0 , count =  2200\n",
      "[DataGeneration] unique number of test data =  8.0 , count =  2077\n",
      "[DataGeneration] unique number of test data =  9.0 , count =  2090\n",
      "[DataGeneration] unique number of test data =  0.0 , ratio =  9.74  %\n",
      "[DataGeneration] unique number of test data =  1.0 , ratio =  11.32  %\n",
      "[DataGeneration] unique number of test data =  2.0 , ratio =  10.02  %\n",
      "[DataGeneration] unique number of test data =  3.0 , ratio =  10.05  %\n",
      "[DataGeneration] unique number of test data =  4.0 , ratio =  9.57  %\n",
      "[DataGeneration] unique number of test data =  5.0 , ratio =  9.24  %\n",
      "[DataGeneration] unique number of test data =  6.0 , ratio =  9.74  %\n",
      "[DataGeneration] unique number of test data =  7.0 , ratio =  10.48  %\n",
      "[DataGeneration] unique number of test data =  8.0 , ratio =  9.89  %\n",
      "[DataGeneration] unique number of test data =  9.0 , ratio =  9.95  %\n",
      "=======================================================================================================\n",
      "training_data.shape =  (39000, 785)\n",
      "validation_data.shape =  (21000, 785)\n"
     ]
    }
   ],
   "source": [
    "# DataGeneration class 이용하여 training data , validation data 생성\n",
    "seperation_rate = 0.35  # training data 10 % 비율로 validation data 생성\n",
    "target_position = 0    # 정답은 첫번째 열\n",
    "\n",
    "try:\n",
    "    data_obj = DataGeneration('MNIST', '../mnist_train.csv', seperation_rate, target_position)\n",
    "\n",
    "    (training_data, validation_data) = data_obj.generate()\n",
    "    \n",
    "    print(\"training_data.shape = \", training_data.shape)\n",
    "    print(\"validation_data.shape = \", validation_data.shape)\n",
    "\n",
    "except Exception as err:\n",
    "    print('Exception Occur !!')\n",
    "    print(str(err))"
   ]
  },
  {
   "cell_type": "code",
   "execution_count": 7,
   "metadata": {},
   "outputs": [
    {
     "name": "stdout",
     "output_type": "stream",
     "text": [
      "epochs =  1 , step =  0 , current loss_val =  6.679149775846546\n",
      "epochs =  1 , step =  1000 , current loss_val =  1.7813415109101975\n",
      "epochs =  1 , step =  2000 , current loss_val =  2.999819251419482\n",
      "epochs =  1 , step =  3000 , current loss_val =  0.7399836070400096\n",
      "epochs =  1 , step =  4000 , current loss_val =  1.2012202862106833\n",
      "epochs =  1 , step =  5000 , current loss_val =  0.9883451543836191\n",
      "epochs =  1 , step =  6000 , current loss_val =  0.8598407169576622\n",
      "epochs =  1 , step =  7000 , current loss_val =  0.7008210907625735\n",
      "epochs =  1 , step =  8000 , current loss_val =  1.2984665482767528\n",
      "epochs =  1 , step =  9000 , current loss_val =  1.2291983388569656\n",
      "epochs =  1 , step =  10000 , current loss_val =  0.753136931561844\n",
      "epochs =  1 , step =  11000 , current loss_val =  0.8433269961084875\n",
      "epochs =  1 , step =  12000 , current loss_val =  0.8830928637154635\n",
      "epochs =  1 , step =  13000 , current loss_val =  0.8966507714920542\n",
      "epochs =  1 , step =  14000 , current loss_val =  0.6697068643112074\n",
      "epochs =  1 , step =  15000 , current loss_val =  0.8314063154308401\n",
      "epochs =  1 , step =  16000 , current loss_val =  0.6783286565262222\n",
      "epochs =  1 , step =  17000 , current loss_val =  0.788611253662283\n",
      "epochs =  1 , step =  18000 , current loss_val =  0.7713081679023939\n",
      "epochs =  1 , step =  19000 , current loss_val =  0.8106248695957815\n",
      "epochs =  1 , step =  20000 , current loss_val =  0.6983760231621323\n",
      "epochs =  1 , step =  21000 , current loss_val =  0.733449425924598\n",
      "epochs =  1 , step =  22000 , current loss_val =  0.6956650236672419\n",
      "epochs =  1 , step =  23000 , current loss_val =  0.7878579845588264\n",
      "epochs =  1 , step =  24000 , current loss_val =  0.9746674671044867\n",
      "epochs =  1 , step =  25000 , current loss_val =  0.7149612845205461\n",
      "epochs =  1 , step =  26000 , current loss_val =  0.7205288207023927\n",
      "epochs =  1 , step =  27000 , current loss_val =  1.0164175132649957\n",
      "epochs =  1 , step =  28000 , current loss_val =  0.7720934511962269\n",
      "epochs =  1 , step =  29000 , current loss_val =  0.7714541143138253\n",
      "epochs =  1 , step =  30000 , current loss_val =  0.7767736788289825\n",
      "epochs =  1 , step =  31000 , current loss_val =  0.7985994876784691\n",
      "epochs =  1 , step =  32000 , current loss_val =  9.402294229831204\n",
      "epochs =  1 , step =  33000 , current loss_val =  0.8959645678619166\n",
      "epochs =  1 , step =  34000 , current loss_val =  0.714466239339025\n",
      "epochs =  1 , step =  35000 , current loss_val =  0.8124924834537223\n",
      "epochs =  1 , step =  36000 , current loss_val =  0.7827806468530113\n",
      "epochs =  1 , step =  37000 , current loss_val =  0.7157827778841399\n",
      "epochs =  1 , step =  38000 , current loss_val =  1.199585301398863\n",
      "\n",
      "elapsed time =  0:00:23.415145\n"
     ]
    }
   ],
   "source": [
    "# hyper-parameter\n",
    "i_nodes = training_data.shape[1] - 1    # input nodes 개수\n",
    "h1_nodes = 100     # hidden 1 nodes\n",
    "o_nodes = 10       # output nodes\n",
    "lr = 0.1           # learning rate\n",
    "epochs = 1         # epochs\n",
    "\n",
    "# 손실함수 값을 저장할 list 생성. \n",
    "loss_val_list = []\n",
    "\n",
    "# 정확도 저장 리스트\n",
    "training_accuracy_list = []\n",
    "validation_accuracy_list = []\n",
    "\n",
    "# 객체 생성\n",
    "nn = NeuralNetwork(i_nodes, h1_nodes, o_nodes, lr)\n",
    "\n",
    "start_time = datetime.now()\n",
    "\n",
    "for i in range(epochs):\n",
    "    \n",
    "    for step in range(len(training_data)):  # train\n",
    "        \n",
    "        # input_data, target_data normalize        \n",
    "        target_data = np.zeros(o_nodes) + 0.01    \n",
    "        target_data[int(training_data[step, 0])] = 0.99\n",
    "    \n",
    "        input_data = ((training_data[step, 1:] / 255.0) * 0.99) + 0.01\n",
    "    \n",
    "        nn.train( np.array(input_data, ndmin=2), np.array(target_data, ndmin=2) )\n",
    "    \n",
    "        if step % 1000 == 0:\n",
    "            print(\"epochs = \", i+1, \", step = \", step,  \", current loss_val = \", nn.loss_val())\n",
    "            \n",
    "        # 손실함수 값 저장 per step\n",
    "        loss_val_list.append(nn.loss_val())    \n",
    "        \n",
    "    # 정확도 계산 및 저장 per epochs\n",
    "    training_accuracy = nn.accuracy(training_data[:, 1:], training_data[:, 0])[0]\n",
    "    validation_accuracy = nn.accuracy(validation_data[:, 1:], validation_data[:, 0])[0]\n",
    "        \n",
    "    training_accuracy_list.append(training_accuracy)\n",
    "    validation_accuracy_list.append(validation_accuracy)\n",
    "        \n",
    "        \n",
    "end_time = datetime.now() \n",
    "print(\"\\nelapsed time = \", end_time - start_time) "
   ]
  },
  {
   "cell_type": "code",
   "execution_count": 6,
   "metadata": {},
   "outputs": [
    {
     "data": {
      "image/png": "[encoded data removed]",
      "text/plain": [
       "<Figure size 432x288 with 1 Axes>"
      ]
     },
     "metadata": {
      "needs_background": "light"
     },
     "output_type": "display_data"
    }
   ],
   "source": [
    "# 손실함수 추세 확인\n",
    "    \n",
    "plt.title('MNIST Loss Value Trend')\n",
    "plt.xlabel('epochs')\n",
    "plt.ylabel('loss value')\n",
    "plt.grid()\n",
    "plt.plot(loss_val_list, color='b')\n",
    "plt.show()"
   ]
  },
  {
   "cell_type": "code",
   "execution_count": 8,
   "metadata": {},
   "outputs": [
    {
     "data": {
      "image/png": "[encoded data removed]",
      "text/plain": [
       "<Figure size 432x288 with 1 Axes>"
      ]
     },
     "metadata": {
      "needs_background": "light"
     },
     "output_type": "display_data"
    }
   ],
   "source": [
    "# 과적합 추세 확인\n",
    "\n",
    "plt.title('Training / Validation Accuracy Trend')\n",
    "plt.xlabel('epochs')\n",
    "plt.ylabel('Accuracy')\n",
    "plt.grid()\n",
    "plt.plot(training_accuracy_list, label='training acc')\n",
    "plt.plot(validation_accuracy_list, label='validation acc')\n",
    "plt.legend(loc='best')\n",
    "\n",
    "plt.show()"
   ]
  },
  {
   "cell_type": "code",
   "execution_count": 8,
   "metadata": {},
   "outputs": [
    {
     "name": "stdout",
     "output_type": "stream",
     "text": [
      "test_data.shape =  (10000, 785)\n",
      "test_data[0,0] =  7.0 , len(test_data[0]) =  785\n",
      "Accuracy =  92.76  %\n"
     ]
    }
   ],
   "source": [
    "# 0~9 숫자 이미지가 784개의 숫자 (28X28) 로 구성되어 있는 test data 읽어옴\n",
    "\n",
    "try:\n",
    "    \n",
    "    test_data = np.loadtxt('../mnist_test.csv', delimiter=',', dtype=np.float32)\n",
    "\n",
    "    test_input_data = test_data[ : , 1: ]\n",
    "    test_target_data = test_data[ : , 0 ]\n",
    "\n",
    "    print(\"test_data.shape = \", test_data.shape)\n",
    "    print(\"test_data[0,0] = \", test_data[0,0], \", len(test_data[0]) = \", len(test_data[0]))\n",
    "\n",
    "    # measure accuracy\n",
    "    (accuracy_ret, index_label_prediction_list, not_matched_list) = nn.accuracy(test_input_data, test_target_data)   \n",
    "\n",
    "    print('Accuracy = ', np.round(100*accuracy_ret, 3), ' %')\n",
    "    \n",
    "except Exception as err:\n",
    "    \n",
    "    print('Exception occur !!')\n",
    "    print(str(err))"
   ]
  },
  {
   "cell_type": "code",
   "execution_count": 9,
   "metadata": {},
   "outputs": [
    {
     "name": "stdout",
     "output_type": "stream",
     "text": [
      "[8, 77, 92, 124, 149, 151, 185, 193, 195, 217, 241, 243, 245, 247, 259, 290, 300, 313, 320, 321, 336, 340, 341, 352, 359, 362, 381, 403, 435, 444, 445, 448, 449, 464, 468, 479, 495, 502, 507, 530, 531, 542, 543, 551, 565, 569, 578, 582, 591, 605, 619, 627, 628, 629, 658, 659, 684, 689, 691, 707, 717, 720, 728, 740, 741, 760, 781, 791, 800, 839, 844, 881, 882, 890, 898, 900, 906, 924, 938, 939, 947, 950, 956, 959, 960, 965, 982, 992, 1012, 1014, 1039, 1044, 1050, 1062, 1068, 1101, 1107, 1112, 1114, 1119, 1124, 1153, 1173, 1181, 1191, 1192, 1194, 1198, 1200, 1202, 1204, 1206, 1208, 1226, 1228, 1232, 1234, 1242, 1247, 1248, 1256, 1260, 1282, 1283, 1289, 1291, 1299, 1315, 1319, 1325, 1326, 1328, 1345, 1410, 1425, 1429, 1433, 1444, 1469, 1494, 1500, 1514, 1522, 1525, 1527, 1530, 1549, 1553, 1559, 1569, 1581, 1596, 1609, 1634, 1640, 1678, 1681, 1686, 1696, 1709, 1717, 1718, 1722, 1732, 1751, 1754, 1759, 1765, 1772, 1790, 1800, 1813, 1823, 1828, 1850, 1857, 1868, 1878, 1880, 1901, 1903, 1917, 1926, 1930, 1938, 1942, 1952, 1955, 1968, 1973, 1981, 1984, 2016, 2024, 2035, 2040, 2043, 2044, 2049, 2052, 2053, 2063, 2068, 2070, 2093, 2098, 2105, 2109, 2115, 2118, 2129, 2130, 2135, 2174, 2182, 2185, 2186, 2189, 2208, 2215, 2224, 2266, 2272, 2293, 2299, 2325, 2358, 2362, 2369, 2380, 2381, 2387, 2393, 2395, 2406, 2414, 2422, 2449, 2462, 2488, 2534, 2548, 2556, 2560, 2589, 2598, 2607, 2610, 2617, 2631, 2635, 2648, 2650, 2654, 2695, 2720, 2721, 2730, 2760, 2770, 2780, 2812, 2832, 2850, 2863, 2866, 2896, 2906, 2914, 2919, 2921, 2925, 2927, 2945, 2953, 2995, 3005, 3060, 3073, 3110, 3117, 3130, 3132, 3136, 3145, 3160, 3166, 3189, 3206, 3225, 3240, 3254, 3269, 3280, 3289, 3302, 3316, 3329, 3330, 3333, 3376, 3381, 3404, 3405, 3436, 3460, 3468, 3475, 3490, 3503, 3516, 3520, 3549, 3550, 3558, 3559, 3567, 3573, 3580, 3597, 3598, 3604, 3629, 3662, 3664, 3674, 3687, 3716, 3718, 3725, 3726, 3730, 3732, 3751, 3757, 3767, 3776, 3780, 3796, 3801, 3806, 3808, 3811, 3817, 3820, 3821, 3834, 3836, 3838, 3846, 3848, 3850, 3853, 3855, 3862, 3869, 3893, 3902, 3906, 3926, 3941, 3943, 3946, 3951, 3954, 3962, 3976, 3985, 3988, 3995, 4000, 4013, 4015, 4017, 4027, 4044, 4063, 4065, 4072, 4075, 4076, 4078, 4093, 4131, 4139, 4140, 4152, 4154, 4163, 4173, 4176, 4177, 4199, 4201, 4205, 4211, 4212, 4224, 4238, 4248, 4256, 4271, 4284, 4289, 4293, 4297, 4300, 4302, 4306, 4311, 4315, 4344, 4355, 4369, 4374, 4380, 4400, 4405, 4423, 4425, 4427, 4433, 4435, 4449, 4451, 4477, 4497, 4498, 4500, 4521, 4523, 4536, 4540, 4547, 4571, 4575, 4578, 4601, 4615, 4633, 4639, 4673, 4690, 4702, 4731, 4735, 4740, 4751, 4761, 4785, 4807, 4808, 4814, 4823, 4827, 4837, 4874, 4876, 4879, 4880, 4886, 4890, 4910, 4915, 4950, 4952, 4956, 4966, 4967, 4978, 4990, 5001, 5009, 5015, 5038, 5046, 5054, 5065, 5067, 5068, 5078, 5135, 5140, 5143, 5176, 5183, 5210, 5246, 5331, 5457, 5569, 5600, 5601, 5611, 5617, 5620, 5634, 5642, 5649, 5653, 5678, 5688, 5709, 5714, 5718, 5734, 5749, 5835, 5887, 5888, 5891, 5913, 5936, 5955, 5972, 5973, 5975, 6020, 6035, 6037, 6042, 6043, 6059, 6065, 6071, 6081, 6091, 6109, 6112, 6124, 6126, 6157, 6160, 6166, 6168, 6172, 6173, 6347, 6390, 6391, 6392, 6400, 6418, 6421, 6425, 6426, 6432, 6495, 6505, 6517, 6555, 6558, 6560, 6568, 6569, 6572, 6574, 6578, 6597, 6598, 6603, 6613, 6625, 6632, 6641, 6651, 6706, 6721, 6740, 6744, 6746, 6765, 6772, 6775, 6784, 6785, 6796, 6817, 6847, 6906, 6926, 6981, 7121, 7130, 7212, 7216, 7233, 7241, 7338, 7432, 7434, 7444, 7451, 7459, 7481, 7492, 7498, 7539, 7541, 7580, 7603, 7637, 7641, 7651, 7779, 7797, 7800, 7821, 7826, 7842, 7849, 7850, 7857, 7858, 7859, 7870, 7886, 7888, 7905, 7917, 7918, 7921, 7945, 8020, 8081, 8091, 8094, 8095, 8165, 8183, 8246, 8258, 8272, 8273, 8277, 8279, 8294, 8308, 8339, 8353, 8408, 8410, 8426, 8444, 8520, 8522, 8639, 9007, 9009, 9010, 9013, 9015, 9019, 9024, 9026, 9036, 9045, 9141, 9182, 9209, 9211, 9214, 9280, 9316, 9317, 9366, 9426, 9446, 9456, 9534, 9587, 9595, 9614, 9624, 9634, 9642, 9643, 9664, 9679, 9698, 9700, 9712, 9716, 9729, 9732, 9740, 9741, 9744, 9745, 9749, 9752, 9755, 9764, 9768, 9770, 9777, 9779, 9780, 9792, 9808, 9811, 9839, 9856, 9858, 9867, 9879, 9888, 9890, 9891, 9892, 9893, 9901, 9905, 9924, 9925, 9941, 9943, 9944, 9954, 9959, 9970, 9975, 9982, 9992]\n"
     ]
    }
   ],
   "source": [
    "print(not_matched_list)"
   ]
  },
  {
   "cell_type": "code",
   "execution_count": 17,
   "metadata": {},
   "outputs": [
    {
     "data": {
      "image/png": "[encoded data removed]",
      "text/plain": [
       "<Figure size 432x288 with 1 Axes>"
      ]
     },
     "metadata": {
      "needs_background": "light"
     },
     "output_type": "display_data"
    },
    {
     "name": "stdout",
     "output_type": "stream",
     "text": [
      "label =  8\n",
      "prediction =  5\n"
     ]
    },
    {
     "ename": "RuntimeError",
     "evalue": "No mappable was found to use for colorbar creation. First define a mappable such as an image (with imshow) or a contour set (with contourf).",
     "output_type": "error",
     "traceback": [
      "\u001b[1;31m---------------------------------------------------------------------------\u001b[0m",
      "\u001b[1;31mRuntimeError\u001b[0m                              Traceback (most recent call last)",
      "\u001b[1;32m<ipython-input-17-27c1719319a8>\u001b[0m in \u001b[0;36m<module>\u001b[1;34m\u001b[0m\n\u001b[0;32m     24\u001b[0m \u001b[0mprint\u001b[0m\u001b[1;33m(\u001b[0m\u001b[1;34m'prediction = '\u001b[0m\u001b[1;33m,\u001b[0m \u001b[0mpredicted_num\u001b[0m\u001b[1;33m)\u001b[0m\u001b[1;33m\u001b[0m\u001b[1;33m\u001b[0m\u001b[0m\n\u001b[0;32m     25\u001b[0m \u001b[1;33m\u001b[0m\u001b[0m\n\u001b[1;32m---> 26\u001b[1;33m \u001b[0mplt\u001b[0m\u001b[1;33m.\u001b[0m\u001b[0mcolorbar\u001b[0m\u001b[1;33m(\u001b[0m\u001b[1;33m)\u001b[0m\u001b[1;33m\u001b[0m\u001b[1;33m\u001b[0m\u001b[0m\n\u001b[0m\u001b[0;32m     27\u001b[0m \u001b[0mplt\u001b[0m\u001b[1;33m.\u001b[0m\u001b[0mtitle\u001b[0m\u001b[1;33m(\u001b[0m\u001b[0mtitle_str\u001b[0m\u001b[1;33m)\u001b[0m\u001b[1;33m\u001b[0m\u001b[1;33m\u001b[0m\u001b[0m\n",
      "\u001b[1;32m~\\anaconda3\\lib\\site-packages\\matplotlib\\pyplot.py\u001b[0m in \u001b[0;36mcolorbar\u001b[1;34m(mappable, cax, ax, **kw)\u001b[0m\n\u001b[0;32m   2079\u001b[0m         \u001b[0mmappable\u001b[0m \u001b[1;33m=\u001b[0m \u001b[0mgci\u001b[0m\u001b[1;33m(\u001b[0m\u001b[1;33m)\u001b[0m\u001b[1;33m\u001b[0m\u001b[1;33m\u001b[0m\u001b[0m\n\u001b[0;32m   2080\u001b[0m         \u001b[1;32mif\u001b[0m \u001b[0mmappable\u001b[0m \u001b[1;32mis\u001b[0m \u001b[1;32mNone\u001b[0m\u001b[1;33m:\u001b[0m\u001b[1;33m\u001b[0m\u001b[1;33m\u001b[0m\u001b[0m\n\u001b[1;32m-> 2081\u001b[1;33m             raise RuntimeError('No mappable was found to use for colorbar '\n\u001b[0m\u001b[0;32m   2082\u001b[0m                                \u001b[1;34m'creation. First define a mappable such as '\u001b[0m\u001b[1;33m\u001b[0m\u001b[1;33m\u001b[0m\u001b[0m\n\u001b[0;32m   2083\u001b[0m                                \u001b[1;34m'an image (with imshow) or a contour set ('\u001b[0m\u001b[1;33m\u001b[0m\u001b[1;33m\u001b[0m\u001b[0m\n",
      "\u001b[1;31mRuntimeError\u001b[0m: No mappable was found to use for colorbar creation. First define a mappable such as an image (with imshow) or a contour set (with contourf)."
     ]
    },
    {
     "data": {
      "text/plain": [
       "<Figure size 432x288 with 0 Axes>"
      ]
     },
     "metadata": {},
     "output_type": "display_data"
    }
   ],
   "source": [
    "# check false data\n",
    "import matplotlib.pyplot as plt\n",
    "import random\n",
    "%matplotlib inline\n",
    "\n",
    "false_data = random.choice(index_label_prediction_list)\n",
    "\n",
    "img = test_input_data[false_data[0]].reshape(28,28)\n",
    "\n",
    "plt.imshow(img, cmap='gray')\n",
    "plt.show()\n",
    "\n",
    "index = false_data[0]\n",
    "\n",
    "target = false_data[1]\n",
    "\n",
    "input_data = test_input_data[index, 1:]\n",
    "\n",
    "predicted_num = false_data[2]\n",
    "\n",
    "title_str = \"index: {}, label : {}, prediction : {}\".format(index, target, predicted_num)\n",
    "\n",
    "print('label = ', target)\n",
    "print('prediction = ', predicted_num)\n",
    "\n",
    "plt.colorbar()\n",
    "plt.title(title_str)"
   ]
  },
  {
   "cell_type": "code",
   "execution_count": 19,
   "metadata": {},
   "outputs": [
    {
     "name": "stdout",
     "output_type": "stream",
     "text": [
      "max_loss =  14.647563607883026 , max_loss_index =  28910 , min_loss =  0.5820441685912864 , min_loss_index =  8495\n",
      "epochs_num =  0\n",
      "real_max_index =  28910 , real_min_index =  8495\n"
     ]
    }
   ],
   "source": [
    "max_loss = np.max(loss_val_list)\n",
    "min_loss = np.min(loss_val_list)\n",
    "max_loss_index = np.argmax(loss_val_list)\n",
    "min_loss_index = np.argmin(loss_val_list)\n",
    "\n",
    "print(\"max_loss = \", max_loss, \", max_loss_index = \", max_loss_index, \", min_loss = \", min_loss, \", min_loss_index = \", min_loss_index)\n",
    "\n",
    "epochs_num = int(max_loss_index/len(training_data))  # \n",
    "print('epochs_num = ', epochs_num)\n",
    "\n",
    "if max_loss_index > len(training_data):\n",
    "    real_max_loss_index = max_loss_index-epochs_num*len(training_data)\n",
    "else:\n",
    "    real_max_loss_index = max_loss_index\n",
    "    \n",
    "\n",
    "if min_loss_index > len(training_data):\n",
    "    real_min_loss_index = min_loss_index-epochs_num*len(training_data)\n",
    "else:\n",
    "    real_min_loss_index = min_loss_index\n",
    "    \n",
    "\n",
    "\n",
    "print('real_max_index = ', real_max_loss_index, ', real_min_index = ', real_min_loss_index)  # real_min_loss_index 다시 계산"
   ]
  },
  {
   "cell_type": "code",
   "execution_count": 20,
   "metadata": {},
   "outputs": [
    {
     "data": {
      "image/png": "[encoded data removed]",
      "text/plain": [
       "<Figure size 432x288 with 1 Axes>"
      ]
     },
     "metadata": {
      "needs_background": "light"
     },
     "output_type": "display_data"
    },
    {
     "name": "stdout",
     "output_type": "stream",
     "text": [
      "label =  4\n",
      "prediction =  0\n"
     ]
    }
   ],
   "source": [
    "# check max loss data\n",
    "import matplotlib.pyplot as plt\n",
    "%matplotlib inline\n",
    "\n",
    "img = training_data[real_max_loss_index, 1:].reshape(28,28)\n",
    "\n",
    "plt.imshow(img, cmap='gray')\n",
    "plt.show()\n",
    "\n",
    "target = int(training_data[real_max_loss_index, 0])\n",
    "\n",
    "input_data = (training_data[real_max_loss_index, 1:] / 255.0 * 0.99) + 0.01\n",
    "\n",
    "predicted_num = nn.predict(np.array(input_data, ndmin=2))\n",
    "\n",
    "print('label = ', target)\n",
    "print('prediction = ', predicted_num)"
   ]
  },
  {
   "cell_type": "code",
   "execution_count": 21,
   "metadata": {},
   "outputs": [
    {
     "data": {
      "image/png": "[encoded data removed]",
      "text/plain": [
       "<Figure size 432x288 with 1 Axes>"
      ]
     },
     "metadata": {
      "needs_background": "light"
     },
     "output_type": "display_data"
    },
    {
     "name": "stdout",
     "output_type": "stream",
     "text": [
      "label =  8\n",
      "prediction =  8\n"
     ]
    }
   ],
   "source": [
    "# check min loss data\n",
    "import matplotlib.pyplot as plt\n",
    "%matplotlib inline\n",
    "\n",
    "img = training_data[real_min_loss_index, 1:].reshape(28,28)\n",
    "\n",
    "plt.imshow(img, cmap='gray')\n",
    "plt.show()\n",
    "\n",
    "target = int(training_data[real_min_loss_index, 0])\n",
    "\n",
    "input_data = (training_data[real_min_loss_index, 1:] / 255.0 * 0.99) + 0.01\n",
    "\n",
    "predicted_num = nn.predict(np.array(input_data, ndmin=2))\n",
    "\n",
    "print('label = ', target)\n",
    "print('prediction = ', predicted_num)"
   ]
  }
 ],
 "metadata": {
  "kernelspec": {
   "display_name": "Python 3",
   "language": "python",
   "name": "python3"
  },
  "language_info": {
   "codemirror_mode": {
    "name": "ipython",
    "version": 3
   },
   "file_extension": ".py",
   "mimetype": "text/x-python",
   "name": "python",
   "nbconvert_exporter": "python",
   "pygments_lexer": "ipython3",
   "version": "3.7.6"
  }
 },
 "nbformat": 4,
 "nbformat_minor": 4
}
