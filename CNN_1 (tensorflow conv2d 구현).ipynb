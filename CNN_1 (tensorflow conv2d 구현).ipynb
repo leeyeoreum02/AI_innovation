{
 "cells": [
  {
   "cell_type": "code",
   "execution_count": 1,
   "metadata": {},
   "outputs": [
    {
     "name": "stdout",
     "output_type": "stream",
     "text": [
      "x_train.shape =  (60000, 785)\n",
      "data.shape =  (785,)\n"
     ]
    }
   ],
   "source": [
    "import numpy as np\n",
    "\n",
    "try:\n",
    "    x_train = np.loadtxt('../mnist_train.csv', delimiter=',', dtype=np.float32)\n",
    "    \n",
    "    print(\"x_train.shape = \", x_train.shape)\n",
    "    \n",
    "    data = x_train[2]\n",
    "    \n",
    "    print('data.shape = ', data.shape)\n",
    "    \n",
    "except Exception as err:\n",
    "    print(str(err))"
   ]
  },
  {
   "cell_type": "code",
   "execution_count": 29,
   "metadata": {},
   "outputs": [
    {
     "name": "stdout",
     "output_type": "stream",
     "text": [
      "input_data.shape =  (28, 28)\n"
     ]
    }
   ],
   "source": [
    "input_data = x_train[2, :-1].reshape(28, 28)\n",
    "\n",
    "print(\"input_data.shape = \", input_data.shape)"
   ]
  },
  {
   "cell_type": "code",
   "execution_count": 9,
   "metadata": {},
   "outputs": [],
   "source": [
    "horizontal_filter = np.array([[1.0, 1.0, 1.0], \n",
    "                              [0.0, 0.0, 0.0],\n",
    "                              [-1.0, -1.0, -1.0] ])\n",
    "vertical_filter = np.array([[1.0, 0.0, -1.0],\n",
    "                            [1.0, 0.0, -1.0],\n",
    "                            [1.0, 0.0, -1.0] ])\n",
    "blur_filter = np.array([[0.11, 0.11, 0.11],\n",
    "                        [0.11, 0.11, 0.11],\n",
    "                        [0.11, 0.11, 0.11] ])\n",
    "sharpen_filter = np.array([[0.0, -1.0, 0.0],\n",
    "                           [-1.0, 5.0, -1.0],\n",
    "                           [0.0, -1.0, 0.0]])"
   ]
  },
  {
   "cell_type": "code",
   "execution_count": 10,
   "metadata": {},
   "outputs": [],
   "source": [
    "horizontal_data = np.zeros(26, 26)"
   ]
  },
  {
   "cell_type": "code",
   "execution_count": 25,
   "metadata": {},
   "outputs": [],
   "source": [
    "for col in range(len(input_data) - 2):\n",
    "    for row in range(input_data.shape[1] - 2):\n",
    "        start_col_index = col\n",
    "        start_row_index = row\n",
    "        end_col_index = col + 3\n",
    "        end_row_index = row + 3\n",
    "        \n",
    "        multiply = input_data[start_col_index:end_col_index, start_row_index:end_row_index] * horizontal_filter\n",
    "        \n",
    "        result = np.sum(multiply)\n",
    "        \n",
    "        horizontal_data[col, row] = result"
   ]
  },
  {
   "cell_type": "code",
   "execution_count": 26,
   "metadata": {},
   "outputs": [
    {
     "data": {
      "image/png": "[encoded data removed]",
      "text/plain": [
       "<Figure size 432x288 with 1 Axes>"
      ]
     },
     "metadata": {
      "needs_background": "light"
     },
     "output_type": "display_data"
    }
   ],
   "source": [
    "import matplotlib.pyplot as plt\n",
    "\n",
    "horizontal_filtered_image = horizontal_data\n",
    "\n",
    "plt.subplot(1, 2, 2)\n",
    "plt.title('horizontal')\n",
    "plt.imshow(horizontal_filtered_image, cmap='gray')\n",
    "plt.show()"
   ]
  },
  {
   "cell_type": "code",
   "execution_count": 30,
   "metadata": {},
   "outputs": [
    {
     "data": {
      "image/png": "[encoded data removed]",
      "text/plain": [
       "<Figure size 432x288 with 1 Axes>"
      ]
     },
     "metadata": {
      "needs_background": "light"
     },
     "output_type": "display_data"
    }
   ],
   "source": [
    "import matplotlib.pyplot as plt\n",
    "\n",
    "horizontal_filtered_image = input_data\n",
    "\n",
    "plt.subplot(1, 2, 2)\n",
    "plt.title('horizontal')\n",
    "plt.imshow(horizontal_filtered_image, cmap='gray')\n",
    "plt.show()"
   ]
  },
  {
   "cell_type": "code",
   "execution_count": null,
   "metadata": {},
   "outputs": [],
   "source": []
  }
 ],
 "metadata": {
  "kernelspec": {
   "display_name": "Python 3",
   "language": "python",
   "name": "python3"
  },
  "language_info": {
   "codemirror_mode": {
    "name": "ipython",
    "version": 3
   },
   "file_extension": ".py",
   "mimetype": "text/x-python",
   "name": "python",
   "nbconvert_exporter": "python",
   "pygments_lexer": "ipython3",
   "version": "3.7.6"
  }
 },
 "nbformat": 4,
 "nbformat_minor": 4
}
