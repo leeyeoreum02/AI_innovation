{
 "cells": [
  {
   "cell_type": "code",
   "execution_count": 13,
   "metadata": {},
   "outputs": [],
   "source": [
    "import numpy as np\n",
    "\n",
    "class DataGeneration:\n",
    "    def __init__(self, file_name, split_rate):\n",
    "        if '.csv' in file_name:\n",
    "            self.data = np.loadtxt(file_name, delimiter=',', dtype=np.float32)\n",
    "        else:\n",
    "            raise Exception('Error: No csv files in directory')\n",
    "            \n",
    "        self.split_rate = split_rate\n",
    "        \n",
    "    def generate(self):\n",
    "        np.random.shuffle(self.data)\n",
    "        \n",
    "        cut_line = int(len(self.data)*self.split_rate)\n",
    "        \n",
    "        training_data = self.data[ :cut_line,  : ]\n",
    "        test_data = self.data[cut_line: ,  : ]\n",
    "    \n",
    "        print(\"training_data.shape = \", training_data.shape, \", test_data.shape = \", test_data.shape)\n",
    "        \n",
    "        return training_data, test_data"
   ]
  },
  {
   "cell_type": "code",
   "execution_count": 17,
   "metadata": {},
   "outputs": [
    {
     "name": "stdout",
     "output_type": "stream",
     "text": [
      "training_data.shape =  (227, 9) , test_data.shape =  (532, 9)\n"
     ]
    }
   ],
   "source": [
    "try:\n",
    "    data_obj = DataGeneration('diabetes.csv', 0.3)\n",
    "\n",
    "    data_obj.generate()\n",
    "    \n",
    "except Exception as err:\n",
    "    print(str(err))"
   ]
  }
 ],
 "metadata": {
  "kernelspec": {
   "display_name": "Python 3",
   "language": "python",
   "name": "python3"
  },
  "language_info": {
   "codemirror_mode": {
    "name": "ipython",
    "version": 3
   },
   "file_extension": ".py",
   "mimetype": "text/x-python",
   "name": "python",
   "nbconvert_exporter": "python",
   "pygments_lexer": "ipython3",
   "version": "3.7.6"
  }
 },
 "nbformat": 4,
 "nbformat_minor": 4
}
