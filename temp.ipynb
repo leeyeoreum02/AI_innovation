{
 "cells": [
  {
   "cell_type": "code",
   "execution_count": 5,
   "metadata": {},
   "outputs": [
    {
     "name": "stdout",
     "output_type": "stream",
     "text": [
      "[0 1 2 3 4 5]\n",
      "[[0 0]\n",
      " [1 1]\n",
      " [2 2]\n",
      " [3 3]]\n",
      "\n",
      "[1 5 3 0 4 2]\n",
      "[[0 0]\n",
      " [3 3]\n",
      " [1 1]\n",
      " [2 2]]\n"
     ]
    }
   ],
   "source": [
    "import numpy as np\n",
    "\n",
    "A = np.array([i for i in range(6)])\n",
    "B = np.array([[j for k in range(2)] for j in range(4)])\n",
    "\n",
    "print(A)\n",
    "print(B)\n",
    "\n",
    "np.random.shuffle(A)\n",
    "np.random.shuffle(B)\n",
    "\n",
    "print()\n",
    "print(A)\n",
    "print(B)"
   ]
  },
  {
   "cell_type": "code",
   "execution_count": 1,
   "metadata": {},
   "outputs": [
    {
     "ename": "SyntaxError",
     "evalue": "can't assign to function call (<ipython-input-1-6e5203c7f6f2>, line 1)",
     "output_type": "error",
     "traceback": [
      "\u001b[1;36m  File \u001b[1;32m\"<ipython-input-1-6e5203c7f6f2>\"\u001b[1;36m, line \u001b[1;32m1\u001b[0m\n\u001b[1;33m    'W{}'.format(1) = 1\u001b[0m\n\u001b[1;37m                       ^\u001b[0m\n\u001b[1;31mSyntaxError\u001b[0m\u001b[1;31m:\u001b[0m can't assign to function call\n"
     ]
    }
   ],
   "source": [
    "'W{}'.format(1) = 1\n",
    "print(W1)"
   ]
  },
  {
   "cell_type": "code",
   "execution_count": 57,
   "metadata": {},
   "outputs": [
    {
     "name": "stdout",
     "output_type": "stream",
     "text": [
      "np.max(X) == 8\n",
      "np.min(X) == 2\n",
      "np.argmax(X) == 3\n",
      "np.argmin(X) == 0\n",
      "np.sum(X) == 20\n",
      "np.exp(X) == [   7.3890561    54.59815003  403.42879349 2980.95798704]\n",
      "np.log(X) == [0.69314718 1.38629436 1.79175947 2.07944154]\n",
      "np.max(Y) == [2 5 8]\n",
      "np.min(Y) == [0 2 3]\n",
      "np.max(Y) == [6 3 8]\n",
      "np.min(Y) == [2 1 0]\n",
      "np.argmax(Y) == [0 2 2]\n",
      "np.argmin(Y) == [2 1 1]\n",
      "np.argmax(Y) == [2 2 2]\n",
      "np.argmin(Y) == [0 0 0]\n"
     ]
    }
   ],
   "source": [
    "X = np.array([2, 4, 6, 8])\n",
    "\n",
    "print(\"np.max(X) ==\", np.max(X))\n",
    "print(\"np.min(X) ==\", np.min(X))\n",
    "print(\"np.argmax(X) ==\", np.argmax(X))\n",
    "print(\"np.argmin(X) ==\", np.argmin(X))\n",
    "\n",
    "print(\"np.sum(X) ==\", np.sum(X))\n",
    "print(\"np.exp(X) ==\", np.exp(X))\n",
    "print(\"np.log(X) ==\", np.log(X))\n",
    "\n",
    "Y = np.array([[2, 4, 6], [1, 2, 3], [0, 5, 8]])\n",
    "\n",
    "print(\"np.max(Y) ==\", np.max(Y, axis=0))\n",
    "print(\"np.min(Y) ==\", np.min(Y, axis=0))\n",
    "\n",
    "print(\"np.max(Y) ==\", np.max(Y, axis=1))\n",
    "print(\"np.min(Y) ==\", np.min(Y, axis=1))\n",
    "\n",
    "print(\"np.argmax(Y) ==\", np.argmax(Y, axis=0))\n",
    "print(\"np.argmin(Y) ==\", np.argmin(Y, axis=0))\n",
    "\n",
    "print(\"np.argmax(Y) ==\", np.argmax(Y, axis=1))\n",
    "print(\"np.argmin(Y) ==\", np.argmin(Y, axis=1))"
   ]
  },
  {
   "cell_type": "code",
   "execution_count": 51,
   "metadata": {},
   "outputs": [
    {
     "name": "stdout",
     "output_type": "stream",
     "text": [
      "23643\n"
     ]
    }
   ],
   "source": [
    "balance = 350000\n",
    "spend = 22990 + 28590 + 42200 + 37700 + 28590 + 8500 + 21600 + 27195 + 108992\n",
    "\n",
    "print(balance - spend)"
   ]
  },
  {
   "cell_type": "code",
   "execution_count": 41,
   "metadata": {},
   "outputs": [
    {
     "name": "stdout",
     "output_type": "stream",
     "text": [
      "list index out of range\n",
      "0\n",
      "Sum in minus\n",
      "-97\n"
     ]
    }
   ],
   "source": [
    "def calc(list_data):\n",
    "    sum = 0\n",
    "    \n",
    "    try:\n",
    "        sum = list_data[0] + list_data[1] + list_data[2]\n",
    "        \n",
    "        if sum < 0:\n",
    "            raise Exception(\"Sum in minus\")\n",
    "            \n",
    "    except IndexError as err:\n",
    "        print(str(err))\n",
    "    except Exception as err:\n",
    "        print(str(err))\n",
    "    finally:\n",
    "        print(sum)\n",
    "        \n",
    "calc([1, 2])\n",
    "calc([1, 2, -100])"
   ]
  },
  {
   "cell_type": "code",
   "execution_count": 26,
   "metadata": {},
   "outputs": [
    {
     "name": "stdout",
     "output_type": "stream",
     "text": [
      "[def]  LEE\n",
      "[SameTest]  LEE\n",
      "[def]  KIM\n",
      "[SameTest]  KIM\n"
     ]
    }
   ],
   "source": [
    "def print_name(name):\n",
    "    print(\"[def] \", name)\n",
    "    \n",
    "class SameTest:\n",
    "    def __init__(self):\n",
    "        pass\n",
    "    \n",
    "    def print_name(self, name):\n",
    "        print(\"[SameTest] \", name)\n",
    "        \n",
    "    def call_test(self):\n",
    "        print_name(\"KIM\")\n",
    "        self.print_name(\"KIM\")\n",
    "        \n",
    "obj = SameTest()\n",
    "print_name(\"LEE\")\n",
    "obj.print_name(\"LEE\")\n",
    "obj.call_test()"
   ]
  },
  {
   "cell_type": "code",
   "execution_count": 25,
   "metadata": {},
   "outputs": [
    {
     "name": "stdout",
     "output_type": "stream",
     "text": [
      "initialized with PARK ,KIM\n",
      "PARK\n",
      "PARK KIM\n",
      "('PARK', 'KIM')\n"
     ]
    },
    {
     "ename": "AttributeError",
     "evalue": "'PrivateMemberTest' object has no attribute '__printNames'",
     "output_type": "error",
     "traceback": [
      "\u001b[1;31m---------------------------------------------------------------------------\u001b[0m",
      "\u001b[1;31mAttributeError\u001b[0m                            Traceback (most recent call last)",
      "\u001b[1;32m<ipython-input-25-1aa65877878c>\u001b[0m in \u001b[0;36m<module>\u001b[1;34m\u001b[0m\n\u001b[0;32m     16\u001b[0m \u001b[0mprint\u001b[0m\u001b[1;33m(\u001b[0m\u001b[0mobj\u001b[0m\u001b[1;33m.\u001b[0m\u001b[0mname1\u001b[0m\u001b[1;33m)\u001b[0m\u001b[1;33m\u001b[0m\u001b[1;33m\u001b[0m\u001b[0m\n\u001b[0;32m     17\u001b[0m \u001b[0mprint\u001b[0m\u001b[1;33m(\u001b[0m\u001b[0mobj\u001b[0m\u001b[1;33m.\u001b[0m\u001b[0mgetNames\u001b[0m\u001b[1;33m(\u001b[0m\u001b[1;33m)\u001b[0m\u001b[1;33m)\u001b[0m\u001b[1;33m\u001b[0m\u001b[1;33m\u001b[0m\u001b[0m\n\u001b[1;32m---> 18\u001b[1;33m \u001b[0mprint\u001b[0m\u001b[1;33m(\u001b[0m\u001b[0mobj\u001b[0m\u001b[1;33m.\u001b[0m\u001b[0m__printNames\u001b[0m\u001b[1;33m(\u001b[0m\u001b[1;33m)\u001b[0m\u001b[1;33m)\u001b[0m\u001b[1;33m\u001b[0m\u001b[1;33m\u001b[0m\u001b[0m\n\u001b[0m\u001b[0;32m     19\u001b[0m \u001b[0mprint\u001b[0m\u001b[1;33m(\u001b[0m\u001b[0mobj\u001b[0m\u001b[1;33m.\u001b[0m\u001b[0m__name2\u001b[0m\u001b[1;33m)\u001b[0m\u001b[1;33m\u001b[0m\u001b[1;33m\u001b[0m\u001b[0m\n",
      "\u001b[1;31mAttributeError\u001b[0m: 'PrivateMemberTest' object has no attribute '__printNames'"
     ]
    }
   ],
   "source": [
    "class PrivateMemberTest:\n",
    "    def __init__(self, name1, name2):\n",
    "        self.name1 = name1\n",
    "        self.__name2 = name2\n",
    "        print(\"initialized with \" + name1 + \" ,\" + name2)\n",
    "        \n",
    "    def getNames(self):\n",
    "        self.__printNames()\n",
    "        return self.name1, self.__name2\n",
    "    \n",
    "    def __printNames(self):\n",
    "        print(self.name1, self.__name2)\n",
    "        \n",
    "obj = PrivateMemberTest(\"PARK\", \"KIM\")\n",
    "\n",
    "print(obj.name1)\n",
    "print(obj.getNames())\n",
    "print(obj.__printNames())\n",
    "print(obj.__name2)"
   ]
  },
  {
   "cell_type": "markdown",
   "metadata": {},
   "source": [
    "# 데이터타입"
   ]
  },
  {
   "cell_type": "markdown",
   "metadata": {},
   "source": [
    "## 예제 1."
   ]
  },
  {
   "cell_type": "code",
   "execution_count": 10,
   "metadata": {},
   "outputs": [
    {
     "name": "stdout",
     "output_type": "stream",
     "text": [
      "John's House\n"
     ]
    }
   ],
   "source": [
    "print(\"John's House\")"
   ]
  },
  {
   "cell_type": "markdown",
   "metadata": {},
   "source": [
    "## 예제 2."
   ]
  },
  {
   "cell_type": "markdown",
   "metadata": {},
   "source": [
    "- \\n: 줄 바꾸기 기능\n",
    "- \\t: tap과 같이 들여쓰기 기능"
   ]
  },
  {
   "cell_type": "markdown",
   "metadata": {},
   "source": [
    "## 예제 3."
   ]
  },
  {
   "cell_type": "code",
   "execution_count": 18,
   "metadata": {},
   "outputs": [
    {
     "name": "stdout",
     "output_type": "stream",
     "text": [
      "2210\n"
     ]
    }
   ],
   "source": [
    "license_plate = \"24가 2210\"\n",
    "print(license_plate[-4:])"
   ]
  },
  {
   "cell_type": "markdown",
   "metadata": {},
   "source": [
    "## 예제 4."
   ]
  },
  {
   "cell_type": "code",
   "execution_count": 1,
   "metadata": {},
   "outputs": [
    {
     "name": "stdout",
     "output_type": "stream",
     "text": [
      "5\n"
     ]
    }
   ],
   "source": [
    "list_A = [1, 2, 3, 4, 5]\n",
    "a = len(list_A)\n",
    "print(a)"
   ]
  },
  {
   "cell_type": "code",
   "execution_count": 1,
   "metadata": {},
   "outputs": [
    {
     "name": "stdout",
     "output_type": "stream",
     "text": [
      "3\n"
     ]
    }
   ],
   "source": [
    "list_B = [1, 2, 3]\n",
    "b = len(list_B)\n",
    "print(b)"
   ]
  },
  {
   "cell_type": "markdown",
   "metadata": {},
   "source": [
    "Error 원인: 위에서 len에 5를 할당해버림으로써 len이 기존 함수 기능이 아닌 5를 담은 변수가 됨\n",
    "\n",
    "해결방법 : 다른 변수에 len(list_A)를 할당하기"
   ]
  },
  {
   "cell_type": "markdown",
   "metadata": {},
   "source": [
    "## 예제 5."
   ]
  },
  {
   "cell_type": "code",
   "execution_count": 3,
   "metadata": {},
   "outputs": [
    {
     "ename": "TypeError",
     "evalue": "'str' object does not support item assignment",
     "output_type": "error",
     "traceback": [
      "\u001b[1;31m---------------------------------------------------------------------------\u001b[0m",
      "\u001b[1;31mTypeError\u001b[0m                                 Traceback (most recent call last)",
      "\u001b[1;32m<ipython-input-3-86999294e516>\u001b[0m in \u001b[0;36m<module>\u001b[1;34m\u001b[0m\n\u001b[0;32m      1\u001b[0m \u001b[0mstr\u001b[0m \u001b[1;33m=\u001b[0m \u001b[1;34m'Hello'\u001b[0m\u001b[1;33m\u001b[0m\u001b[1;33m\u001b[0m\u001b[0m\n\u001b[1;32m----> 2\u001b[1;33m \u001b[0mstr\u001b[0m\u001b[1;33m[\u001b[0m\u001b[1;36m0\u001b[0m\u001b[1;33m]\u001b[0m \u001b[1;33m=\u001b[0m \u001b[1;34m'K'\u001b[0m\u001b[1;33m\u001b[0m\u001b[1;33m\u001b[0m\u001b[0m\n\u001b[0m\u001b[0;32m      3\u001b[0m \u001b[0mprint\u001b[0m\u001b[1;33m(\u001b[0m\u001b[0mstr\u001b[0m\u001b[1;33m)\u001b[0m\u001b[1;33m\u001b[0m\u001b[1;33m\u001b[0m\u001b[0m\n",
      "\u001b[1;31mTypeError\u001b[0m: 'str' object does not support item assignment"
     ]
    }
   ],
   "source": [
    "str = 'Hello'\n",
    "str[0] = 'K'\n",
    "print(str)"
   ]
  },
  {
   "cell_type": "markdown",
   "metadata": {},
   "source": [
    "예상 결과: 'Hello' 출력 (X) <br>\n",
    "\n",
    "결과: str 자료형은 읽기 전용이므로 이미 2번 코드에서 에러 발생"
   ]
  },
  {
   "cell_type": "markdown",
   "metadata": {},
   "source": [
    "## 예제 6."
   ]
  },
  {
   "cell_type": "code",
   "execution_count": 40,
   "metadata": {},
   "outputs": [
    {
     "name": "stdout",
     "output_type": "stream",
     "text": [
      "Hello/Machine/Deep/Learning\n",
      "['Hello', 'Machine', 'Deep', 'Learning']\n",
      "['Hello', 'Machine', 'Deep', 'Learning']\n"
     ]
    }
   ],
   "source": [
    "string = \"Hello/Machine/Deep/Learning\"\n",
    "print(string)\n",
    "\n",
    "list_A = [string[:5], string[6:13], string[14:18], string[19:]]\n",
    "print(list_A)\n",
    "\n",
    "list_B = []\n",
    "# list_B = list_B.append(string[:5]).append(string[6:13]).append(string[14:18]).append(string[19:])\n",
    "# append를 이렇게 연속으로 하면 안되는 구나... -> 특정 반환값을 가진 메소드끼리만 체이닝 가능\n",
    "\n",
    "list_C = string.split('/')\n",
    "print(list_C)"
   ]
  },
  {
   "cell_type": "markdown",
   "metadata": {},
   "source": [
    "## 예제 7."
   ]
  },
  {
   "cell_type": "code",
   "execution_count": 17,
   "metadata": {},
   "outputs": [
    {
     "name": "stdout",
     "output_type": "stream",
     "text": [
      "hi world\n"
     ]
    }
   ],
   "source": [
    "A = 'hello world'\n",
    "A_1 = A[:1]\n",
    "A_2 = A[-5:]\n",
    "A = A_1 + 'i' + ' ' + A_2\n",
    "print(A)"
   ]
  },
  {
   "cell_type": "markdown",
   "metadata": {},
   "source": [
    "## 예제 8."
   ]
  },
  {
   "cell_type": "code",
   "execution_count": 23,
   "metadata": {},
   "outputs": [
    {
     "name": "stdout",
     "output_type": "stream",
     "text": [
      "['AB', 'CDE:FG', 'WX', 'Y']\n",
      "WX\n",
      "A\n",
      "['WX', 'Y']\n",
      "['AB', 'CDE:FG', 'WX', 'Y']\n"
     ]
    }
   ],
   "source": [
    "str = \"AB,CDE:FG,WX,Y\".split(',')\n",
    "print(str, str[-2], str[0][:-1], str[2:], str[:][:], sep='\\n')"
   ]
  },
  {
   "cell_type": "markdown",
   "metadata": {},
   "source": [
    "```python\n",
    "str = ['AB', 'CDE:FG', 'WX', 'Y']\n",
    "str[-2] = 'WX'\n",
    "str[0][:-1] = 'AB'\n",
    "str[2:] = ['WX'. 'Y']\n",
    "str = ['AB', 'CDE:FG', 'WX', 'Y']\n",
    "```"
   ]
  },
  {
   "cell_type": "markdown",
   "metadata": {},
   "source": [
    "## 예제 9."
   ]
  },
  {
   "cell_type": "code",
   "execution_count": 27,
   "metadata": {},
   "outputs": [
    {
     "name": "stdout",
     "output_type": "stream",
     "text": [
      "['6316']\n"
     ]
    }
   ],
   "source": [
    "files = 'tmp/cat.0.jpg:python.1.py:temp/hello.6316.txt:text.6331.docx'\n",
    "\n",
    "new_var = [files.split(':')[2].split('.')[1].strip()]\n",
    "print(new_var)"
   ]
  },
  {
   "cell_type": "markdown",
   "metadata": {},
   "source": [
    "```python\n",
    "'temp/hello.6316.txt'\n",
    "'6316'\n",
    "\n",
    "'6316'\n",
    "```"
   ]
  },
  {
   "cell_type": "markdown",
   "metadata": {},
   "source": [
    "## 예제 10."
   ]
  },
  {
   "cell_type": "code",
   "execution_count": 52,
   "metadata": {},
   "outputs": [
    {
     "name": "stdout",
     "output_type": "stream",
     "text": [
      "['train\\\\Agent.py', 'train\\\\cat.6.jpg', 'train\\\\cat.9.jpg', 'train\\\\dog.6316.jpg', 'train\\\\dog.6331.jpg', 'train\\\\hello.txt']\n",
      "6 11\n",
      "['Agent']\n",
      "6 9\n",
      "['Agent', 'cat']\n",
      "6 9\n",
      "['Agent', 'cat', 'cat']\n",
      "6 9\n",
      "['Agent', 'cat', 'cat', 'dog']\n",
      "6 9\n",
      "['Agent', 'cat', 'cat', 'dog', 'dog']\n",
      "6 11\n",
      "['Agent', 'cat', 'cat', 'dog', 'dog', 'hello']\n"
     ]
    }
   ],
   "source": [
    "import glob\n",
    "import random\n",
    "\n",
    "all_files = glob.glob('train/*')\n",
    "print(all_files)\n",
    "\n",
    "temp = []\n",
    "data = []\n",
    "\n",
    "for file in all_files:\n",
    "    start = file.find('\\\\') + 1\n",
    "    end = file.find('.')\n",
    "    temp.append(file[start:end])\n",
    "    print(start, end)\n",
    "    print(data)\n",
    "    if 'dog' in file or 'cat' in file:\n",
    "        temp."
   ]
  },
  {
   "cell_type": "markdown",
   "metadata": {},
   "source": [
    "# if, for, 리스트 컴프리핸션"
   ]
  },
  {
   "cell_type": "markdown",
   "metadata": {},
   "source": [
    "## 예제 1."
   ]
  },
  {
   "cell_type": "code",
   "execution_count": 53,
   "metadata": {},
   "outputs": [
    {
     "name": "stdout",
     "output_type": "stream",
     "text": [
      "******"
     ]
    }
   ],
   "source": [
    "for _ in range(6):\n",
    "    print('*', end='')"
   ]
  },
  {
   "cell_type": "markdown",
   "metadata": {},
   "source": [
    "## 예제 2."
   ]
  },
  {
   "cell_type": "code",
   "execution_count": 56,
   "metadata": {},
   "outputs": [
    {
     "name": "stdout",
     "output_type": "stream",
     "text": [
      "*****\n",
      "**** \n",
      "***  \n",
      "**   \n",
      "*    \n"
     ]
    }
   ],
   "source": [
    "for j in range(5):\n",
    "    print(('*' * (5 - j)) + (' ' * j))"
   ]
  },
  {
   "cell_type": "markdown",
   "metadata": {},
   "source": [
    "## 예제 3."
   ]
  },
  {
   "cell_type": "code",
   "execution_count": 5,
   "metadata": {},
   "outputs": [
    {
     "name": "stdout",
     "output_type": "stream",
     "text": [
      "102 103 104 201 202 204 302 303 304 401 402 403 "
     ]
    }
   ],
   "source": [
    "apart = [[101, 102, 103, 104], [201, 202, 203, 204], [301, 302, 303, 304], [401, 402, 403, 404]]\n",
    "arrears = [101, 203, 301, 404]\n",
    "\n",
    "for col in range(len(apart)):\n",
    "    for row in range(len(apart[col])):\n",
    "        if apart[col][row] in arrears:\n",
    "            pass\n",
    "        else:\n",
    "            print(apart[col][row], end=' ')"
   ]
  },
  {
   "cell_type": "markdown",
   "metadata": {},
   "source": [
    "## 예제 4."
   ]
  },
  {
   "cell_type": "code",
   "execution_count": 7,
   "metadata": {},
   "outputs": [
    {
     "name": "stdout",
     "output_type": "stream",
     "text": [
      "[0, 2, 4, 6, 8]\n"
     ]
    }
   ],
   "source": [
    "even_number = [i for i in range(10) if i % 2 == 0]\n",
    "print(even_number)"
   ]
  },
  {
   "cell_type": "markdown",
   "metadata": {},
   "source": [
    "## 예제 5."
   ]
  },
  {
   "cell_type": "code",
   "execution_count": 8,
   "metadata": {},
   "outputs": [
    {
     "name": "stdout",
     "output_type": "stream",
     "text": [
      "B C D "
     ]
    }
   ],
   "source": [
    "my_list = ['A', 'B', 'C', 'D']\n",
    "\n",
    "for data in my_list:\n",
    "    if data == 'A':\n",
    "        pass\n",
    "    else:\n",
    "        print(data, end=' ')"
   ]
  },
  {
   "cell_type": "markdown",
   "metadata": {},
   "source": [
    "## 예제 6."
   ]
  },
  {
   "cell_type": "code",
   "execution_count": 10,
   "metadata": {},
   "outputs": [
    {
     "name": "stdout",
     "output_type": "stream",
     "text": [
      "3 12 16 "
     ]
    }
   ],
   "source": [
    "my_list = [3, 1, 7, 12, 5, 16]\n",
    "\n",
    "for data in my_list:\n",
    "    if data % 3 == 0 or data % 4 == 0:\n",
    "        print(data, end=' ')\n",
    "    else:\n",
    "        pass"
   ]
  },
  {
   "cell_type": "markdown",
   "metadata": {},
   "source": [
    "## 예제 7."
   ]
  },
  {
   "cell_type": "code",
   "execution_count": 14,
   "metadata": {},
   "outputs": [
    {
     "name": "stdout",
     "output_type": "stream",
     "text": [
      "[[20], [2], [200]]\n",
      "[[10, 20], [1, 2], [100, 200]]\n"
     ]
    }
   ],
   "source": [
    "test_data = [[10, 20, 30], [1, 2, 3], [100, 200, 300]]\n",
    "\n",
    "xdata = [x[1:-1] for x in test_data]\n",
    "tdata = [[x[0], x[-2]] for x in test_data]\n",
    "\n",
    "print(xdata, tdata, sep='\\n')"
   ]
  },
  {
   "cell_type": "markdown",
   "metadata": {},
   "source": [
    "```python\n",
    "xdata = [20, 2, 200] # 리스트를 슬라이싱하면 리스트가 나옴\n",
    "tdata = [[10, 20], [1, 2], [100, 200]]\n",
    "```"
   ]
  },
  {
   "cell_type": "markdown",
   "metadata": {},
   "source": [
    "## 예제 8."
   ]
  },
  {
   "cell_type": "code",
   "execution_count": 46,
   "metadata": {},
   "outputs": [
    {
     "name": "stdout",
     "output_type": "stream",
     "text": [
      "['test_dir1\\\\cat.6.jpg', 'test_dir1\\\\cat.9.jpg', 'test_dir1\\\\dog.6316.jpg', 'test_dir1\\\\dog.6331.jpg']\n",
      "cat dog "
     ]
    }
   ],
   "source": [
    "import glob\n",
    "\n",
    "all_files = glob.glob('test_dir1/*')\n",
    "print(all_files)\n",
    "\n",
    "data = [file[file.find('\\\\') + 1:file.find('.')] for file in all_files if 'dog' in file or 'cat' in file]\n",
    "data = list(set(data))\n",
    "\n",
    "for i in data:\n",
    "    print(i, end=' ')"
   ]
  },
  {
   "cell_type": "markdown",
   "metadata": {},
   "source": [
    "## 예제 9."
   ]
  },
  {
   "cell_type": "code",
   "execution_count": 68,
   "metadata": {},
   "outputs": [
    {
     "name": "stdout",
     "output_type": "stream",
     "text": [
      "deer rabbit cat dog "
     ]
    }
   ],
   "source": [
    "import glob\n",
    "\n",
    "all_files = glob.glob('test_dir2/*')\n",
    "data = [file.split('.')[1].strip() for file in all_files]\n",
    "data = list(set(data))\n",
    "\n",
    "for i in data:\n",
    "    print(i, end=' ')"
   ]
  },
  {
   "cell_type": "markdown",
   "metadata": {},
   "source": [
    "## 예제 10."
   ]
  },
  {
   "cell_type": "code",
   "execution_count": 78,
   "metadata": {},
   "outputs": [
    {
     "name": "stdout",
     "output_type": "stream",
     "text": [
      "['dog.1.png', 'dog.6316.jpg', 'dog.6331.jpg']\n"
     ]
    }
   ],
   "source": [
    "import glob\n",
    "\n",
    "all_files = glob.glob('test_dir3/*')\n",
    "data = [file[10:] for index, file in enumerate(all_files) if 'dog' in file]\n",
    "print(data)"
   ]
  },
  {
   "cell_type": "markdown",
   "metadata": {},
   "source": [
    "## 예제 11."
   ]
  },
  {
   "cell_type": "code",
   "execution_count": 82,
   "metadata": {
    "scrolled": true
   },
   "outputs": [],
   "source": [
    "import glob\n",
    "\n",
    "dir1_files = glob.glob('test_dir1/*')\n",
    "dir2_files = glob.glob('test_dir3/*')\n",
    "\n",
    "data_dir1 = [file[10:] for file in dir1_files]\n",
    "data_dir2 = [file[10:] for file in dir2_files]"
   ]
  },
  {
   "cell_type": "code",
   "execution_count": 83,
   "metadata": {},
   "outputs": [
    {
     "name": "stdout",
     "output_type": "stream",
     "text": [
      "name =  T\n",
      "name =  T\n"
     ]
    }
   ],
   "source": [
    "def print_name(name='T', count=2):\n",
    "    for i in range(count):\n",
    "        print(\"name = \", name)\n",
    "        \n",
    "print_name()"
   ]
  },
  {
   "cell_type": "markdown",
   "metadata": {},
   "source": [
    "# 함수"
   ]
  },
  {
   "cell_type": "markdown",
   "metadata": {},
   "source": [
    "## 예제 1."
   ]
  },
  {
   "cell_type": "code",
   "execution_count": 3,
   "metadata": {},
   "outputs": [
    {
     "name": "stdout",
     "output_type": "stream",
     "text": [
      "165\n"
     ]
    }
   ],
   "source": [
    "def add_start_to_end(start, end):\n",
    "    total = 0\n",
    "    for i in range(start, end + 1):\n",
    "        total += i\n",
    "        \n",
    "    return total\n",
    "\n",
    "print(add_start_to_end(10, 20))"
   ]
  },
  {
   "cell_type": "markdown",
   "metadata": {},
   "source": [
    "## 예제 2."
   ]
  },
  {
   "cell_type": "code",
   "execution_count": 5,
   "metadata": {},
   "outputs": [
    {
     "name": "stdout",
     "output_type": "stream",
     "text": [
      "['Seo', 'Dae', 'Kwa', 'Jej']\n"
     ]
    }
   ],
   "source": [
    "def get_abbr(input_list):\n",
    "    output_list = []\n",
    "    for element in input_list:\n",
    "        output_list.append(element[:3])\n",
    "        \n",
    "    return output_list\n",
    "\n",
    "city = ['Seoul', 'Daegu', 'Kwangju', 'Jeju']\n",
    "print(get_abbr(city))"
   ]
  },
  {
   "cell_type": "markdown",
   "metadata": {},
   "source": [
    "## 예제 3."
   ]
  },
  {
   "cell_type": "code",
   "execution_count": 7,
   "metadata": {},
   "outputs": [
    {
     "name": "stdout",
     "output_type": "stream",
     "text": [
      "4\n",
      "4\n"
     ]
    }
   ],
   "source": [
    "def square(x):\n",
    "    return x ** 2\n",
    "\n",
    "f = lambda x: square(x)\n",
    "\n",
    "print(square(2))\n",
    "print(f(2))"
   ]
  },
  {
   "cell_type": "markdown",
   "metadata": {},
   "source": [
    "## 예제 4."
   ]
  },
  {
   "cell_type": "code",
   "execution_count": 9,
   "metadata": {},
   "outputs": [
    {
     "ename": "NameError",
     "evalue": "name 'hello' is not defined",
     "output_type": "error",
     "traceback": [
      "\u001b[1;31m---------------------------------------------------------------------------\u001b[0m",
      "\u001b[1;31mNameError\u001b[0m                                 Traceback (most recent call last)",
      "\u001b[1;32m<ipython-input-9-bf354f35564a>\u001b[0m in \u001b[0;36m<module>\u001b[1;34m\u001b[0m\n\u001b[1;32m----> 1\u001b[1;33m \u001b[0mhello\u001b[0m\u001b[1;33m(\u001b[0m\u001b[1;33m)\u001b[0m\u001b[1;33m\u001b[0m\u001b[1;33m\u001b[0m\u001b[0m\n\u001b[0m\u001b[0;32m      2\u001b[0m \u001b[1;33m\u001b[0m\u001b[0m\n\u001b[0;32m      3\u001b[0m \u001b[1;32mdef\u001b[0m \u001b[0mhello\u001b[0m\u001b[1;33m(\u001b[0m\u001b[1;33m)\u001b[0m\u001b[1;33m:\u001b[0m\u001b[1;33m\u001b[0m\u001b[1;33m\u001b[0m\u001b[0m\n\u001b[0;32m      4\u001b[0m     \u001b[0mprint\u001b[0m\u001b[1;33m(\u001b[0m\u001b[1;34m\"Hi\"\u001b[0m\u001b[1;33m)\u001b[0m\u001b[1;33m\u001b[0m\u001b[1;33m\u001b[0m\u001b[0m\n",
      "\u001b[1;31mNameError\u001b[0m: name 'hello' is not defined"
     ]
    }
   ],
   "source": [
    "hello()\n",
    "\n",
    "def hello():\n",
    "    print(\"Hi\")"
   ]
  },
  {
   "cell_type": "markdown",
   "metadata": {},
   "source": [
    "Error 원인: 함수를 정의하기 전에 함수를 호출<br>\n",
    "해결방안: 함수를 호출하기 전에 함수를 정의"
   ]
  },
  {
   "cell_type": "markdown",
   "metadata": {},
   "source": [
    "## 예제 5."
   ]
  },
  {
   "cell_type": "code",
   "execution_count": 11,
   "metadata": {},
   "outputs": [
    {
     "name": "stdout",
     "output_type": "stream",
     "text": [
      "A\n",
      "B\n",
      "C\n",
      "A\n",
      "B\n"
     ]
    }
   ],
   "source": [
    "def message():\n",
    "    print(\"A\")\n",
    "    print(\"B\")\n",
    "    \n",
    "message()\n",
    "\n",
    "print(\"C\")\n",
    "\n",
    "message()"
   ]
  },
  {
   "cell_type": "markdown",
   "metadata": {},
   "source": [
    "```python\n",
    "A\n",
    "B\n",
    "C\n",
    "A\n",
    "B\n",
    "```"
   ]
  },
  {
   "cell_type": "markdown",
   "metadata": {},
   "source": [
    "## 예제 6."
   ]
  },
  {
   "cell_type": "code",
   "execution_count": 13,
   "metadata": {},
   "outputs": [
    {
     "name": "stdout",
     "output_type": "stream",
     "text": [
      "[1.55, 1.5]\n"
     ]
    }
   ],
   "source": [
    "def func(var):\n",
    "    x1 = var[0]\n",
    "    x2 = var[1]\n",
    "    \n",
    "    return (x1 + x2) / 2\n",
    "\n",
    "def test_func(f, W):\n",
    "    ret_val_list = []\n",
    "    W[0] = W[0] + 0.1 # W[0] = 1.1\n",
    "    ret_val = f(W) # 1.1 + 2.0 / 2 = 1.55\n",
    "    ret_val_list.append(ret_val) # ret_val_list = [1.55]\n",
    "    W[1] = W[1] - 0.1 # W[1] = 1.9\n",
    "    ret_val = f(W) # 1.1 + 1.9 / 2 = 1.5\n",
    "    ret_val_list.append(ret_val) # ret_val_list = [1.55, 1.5]\n",
    "    return ret_val_list\n",
    "\n",
    "f = lambda x : func(x)\n",
    "\n",
    "ret_val = test_func(f, [1.0, 2.0]) # [1.55, 1.5]\n",
    "print(ret_val)"
   ]
  },
  {
   "cell_type": "markdown",
   "metadata": {},
   "source": [
    "# 클래스, 예외, with"
   ]
  },
  {
   "cell_type": "markdown",
   "metadata": {},
   "source": [
    "## 예제 2."
   ]
  },
  {
   "cell_type": "code",
   "execution_count": 41,
   "metadata": {},
   "outputs": [
    {
     "name": "stdout",
     "output_type": "stream",
     "text": [
      "(2, 2)\n"
     ]
    }
   ],
   "source": [
    "class Point:\n",
    "    def __init__(self, x, y):\n",
    "        self.x = x\n",
    "        self.y = y\n",
    "        \n",
    "    def setx(self, x):\n",
    "        self.x = x\n",
    "        \n",
    "    def sety(self, y):\n",
    "        self.y = y\n",
    "        \n",
    "    def get(self):\n",
    "        return self.x, self.y\n",
    "    \n",
    "    def move(self, dx, dy):\n",
    "        self.x += dx\n",
    "        self.y += dy\n",
    "        \n",
    "p = Point(1, 1)\n",
    "p.setx(2)\n",
    "p.sety(2)\n",
    "print(p.get())"
   ]
  },
  {
   "cell_type": "markdown",
   "metadata": {},
   "source": [
    "## 예제 3."
   ]
  },
  {
   "cell_type": "code",
   "execution_count": 42,
   "metadata": {},
   "outputs": [
    {
     "ename": "TypeError",
     "evalue": "hello() takes 0 positional arguments but 1 was given",
     "output_type": "error",
     "traceback": [
      "\u001b[1;31m---------------------------------------------------------------------------\u001b[0m",
      "\u001b[1;31mTypeError\u001b[0m                                 Traceback (most recent call last)",
      "\u001b[1;32m<ipython-input-42-e6cf0f54359a>\u001b[0m in \u001b[0;36m<module>\u001b[1;34m\u001b[0m\n\u001b[0;32m      4\u001b[0m \u001b[1;33m\u001b[0m\u001b[0m\n\u001b[0;32m      5\u001b[0m \u001b[0mobj\u001b[0m \u001b[1;33m=\u001b[0m \u001b[0mMyTest\u001b[0m\u001b[1;33m(\u001b[0m\u001b[1;33m)\u001b[0m\u001b[1;33m\u001b[0m\u001b[1;33m\u001b[0m\u001b[0m\n\u001b[1;32m----> 6\u001b[1;33m \u001b[0mobj\u001b[0m\u001b[1;33m.\u001b[0m\u001b[0mhello\u001b[0m\u001b[1;33m(\u001b[0m\u001b[1;33m)\u001b[0m\u001b[1;33m\u001b[0m\u001b[1;33m\u001b[0m\u001b[0m\n\u001b[0m",
      "\u001b[1;31mTypeError\u001b[0m: hello() takes 0 positional arguments but 1 was given"
     ]
    }
   ],
   "source": [
    "class MyTest:\n",
    "    def hello():\n",
    "        print(\"MyTest hello method\")\n",
    "        \n",
    "obj = MyTest()\n",
    "obj.hello()"
   ]
  },
  {
   "cell_type": "markdown",
   "metadata": {},
   "source": [
    "Error 원인: 메소드에 self 매개변수가 없음<br>\n",
    "해결방안: 메소드에 self를 추가해준다"
   ]
  },
  {
   "cell_type": "markdown",
   "metadata": {},
   "source": [
    "## 예제 4."
   ]
  },
  {
   "cell_type": "code",
   "execution_count": 43,
   "metadata": {},
   "outputs": [
    {
     "data": {
      "text/plain": [
       "2"
      ]
     },
     "execution_count": 43,
     "metadata": {},
     "output_type": "execute_result"
    }
   ],
   "source": [
    "class MyCalc:\n",
    "    def __init__(self, a, b):\n",
    "        self.a = a\n",
    "        self.b = b\n",
    "        \n",
    "    def summation(self):\n",
    "        return self.a + self.b\n",
    "    \n",
    "    def subtract(self):\n",
    "        return self.a - self.b\n",
    "    \n",
    "    def multiply(self):\n",
    "        return self.a * self.b\n",
    "    \n",
    "    def divide(self):\n",
    "        return self.a / self.b\n",
    "    \n",
    "obj = MyCalc(1,1)\n",
    "obj.summation()"
   ]
  },
  {
   "cell_type": "markdown",
   "metadata": {},
   "source": [
    "## 예제 5."
   ]
  },
  {
   "cell_type": "code",
   "execution_count": 50,
   "metadata": {},
   "outputs": [],
   "source": [
    "class MyFile:\n",
    "    def __init__(self):\n",
    "        pass\n",
    "        \n",
    "    def save_file(self, array):\n",
    "        try:\n",
    "            with open('text_file.txt', 'w') as file:\n",
    "                file.write(array)\n",
    "        except Exception as err:\n",
    "            print(str(err))\n",
    "            \n",
    "obj = MyFile()\n",
    "obj.save_file('Hello, world!')"
   ]
  },
  {
   "cell_type": "markdown",
   "metadata": {},
   "source": [
    "# 넘파이"
   ]
  },
  {
   "cell_type": "markdown",
   "metadata": {},
   "source": [
    "## 예제 1-1."
   ]
  },
  {
   "cell_type": "code",
   "execution_count": 27,
   "metadata": {},
   "outputs": [
    {
     "name": "stdout",
     "output_type": "stream",
     "text": [
      "[ 0 -2]\n",
      "[ 0 -6]\n"
     ]
    }
   ],
   "source": [
    "A = np.array([1, 2])\n",
    "B = np.array([3, 4])\n",
    "T = np.array([5, 6])\n",
    "\n",
    "print((1 - A) * A)\n",
    "print(T * (1 - A))"
   ]
  },
  {
   "cell_type": "markdown",
   "metadata": {},
   "source": [
    "## 예제 1-2."
   ]
  },
  {
   "cell_type": "code",
   "execution_count": 28,
   "metadata": {},
   "outputs": [
    {
     "name": "stdout",
     "output_type": "stream",
     "text": [
      "[[-2 -6]]\n",
      "[[-14 -48]]\n"
     ]
    }
   ],
   "source": [
    "C = np.array([[2, 3]])\n",
    "D = np.array([[4, 5]])\n",
    "T = np.array([[7, 8]])\n",
    "\n",
    "print((1 - C) * C)\n",
    "print(T * (1 - C) * C)"
   ]
  },
  {
   "cell_type": "markdown",
   "metadata": {},
   "source": [
    "## 예제 1-3."
   ]
  },
  {
   "cell_type": "code",
   "execution_count": 34,
   "metadata": {},
   "outputs": [
    {
     "ename": "ValueError",
     "evalue": "operands could not be broadcast together with shapes (2,2) (2,3) ",
     "output_type": "error",
     "traceback": [
      "\u001b[1;31m---------------------------------------------------------------------------\u001b[0m",
      "\u001b[1;31mValueError\u001b[0m                                Traceback (most recent call last)",
      "\u001b[1;32m<ipython-input-34-f46bbb4192d9>\u001b[0m in \u001b[0;36m<module>\u001b[1;34m\u001b[0m\n\u001b[0;32m      6\u001b[0m \u001b[1;33m\u001b[0m\u001b[0m\n\u001b[0;32m      7\u001b[0m \u001b[0mY\u001b[0m \u001b[1;33m=\u001b[0m \u001b[0mnp\u001b[0m\u001b[1;33m.\u001b[0m\u001b[0mdot\u001b[0m\u001b[1;33m(\u001b[0m\u001b[0mX\u001b[0m\u001b[1;33m,\u001b[0m \u001b[0mW\u001b[0m\u001b[1;33m)\u001b[0m \u001b[1;33m+\u001b[0m \u001b[0mb\u001b[0m\u001b[1;33m\u001b[0m\u001b[1;33m\u001b[0m\u001b[0m\n\u001b[1;32m----> 8\u001b[1;33m \u001b[0mE\u001b[0m \u001b[1;33m=\u001b[0m \u001b[0mT\u001b[0m \u001b[1;33m-\u001b[0m \u001b[0mY\u001b[0m\u001b[1;33m\u001b[0m\u001b[1;33m\u001b[0m\u001b[0m\n\u001b[0m",
      "\u001b[1;31mValueError\u001b[0m: operands could not be broadcast together with shapes (2,2) (2,3) "
     ]
    }
   ],
   "source": [
    "X = np.array([[1, 2], [3, 4]])\n",
    "W = np.array([[0, 1, 1], [3, 2, 1]])\n",
    "T = np.array([[1, 0], [0, 2]])\n",
    "\n",
    "b = -1\n",
    "\n",
    "Y = np.dot(X, W) + b\n",
    "E = T - Y"
   ]
  },
  {
   "cell_type": "markdown",
   "metadata": {},
   "source": [
    "Error 원인: X, W의 열이 맞지 않음"
   ]
  },
  {
   "cell_type": "markdown",
   "metadata": {},
   "source": [
    "## 예제 1-4."
   ]
  },
  {
   "cell_type": "code",
   "execution_count": 33,
   "metadata": {},
   "outputs": [
    {
     "ename": "ValueError",
     "evalue": "shapes (3,2) and (3,) not aligned: 2 (dim 1) != 3 (dim 0)",
     "output_type": "error",
     "traceback": [
      "\u001b[1;31m---------------------------------------------------------------------------\u001b[0m",
      "\u001b[1;31mValueError\u001b[0m                                Traceback (most recent call last)",
      "\u001b[1;32m<ipython-input-33-ff8f5e5400a0>\u001b[0m in \u001b[0;36m<module>\u001b[1;34m\u001b[0m\n\u001b[0;32m      2\u001b[0m \u001b[0mB\u001b[0m \u001b[1;33m=\u001b[0m \u001b[0mnp\u001b[0m\u001b[1;33m.\u001b[0m\u001b[0marray\u001b[0m\u001b[1;33m(\u001b[0m\u001b[1;33m[\u001b[0m\u001b[1;36m10\u001b[0m\u001b[1;33m,\u001b[0m \u001b[1;36m20\u001b[0m\u001b[1;33m,\u001b[0m \u001b[1;36m30\u001b[0m\u001b[1;33m]\u001b[0m\u001b[1;33m)\u001b[0m\u001b[1;33m\u001b[0m\u001b[1;33m\u001b[0m\u001b[0m\n\u001b[0;32m      3\u001b[0m \u001b[0mC\u001b[0m \u001b[1;33m=\u001b[0m \u001b[0mA\u001b[0m\u001b[1;33m.\u001b[0m\u001b[0mT\u001b[0m\u001b[1;33m\u001b[0m\u001b[1;33m\u001b[0m\u001b[0m\n\u001b[1;32m----> 4\u001b[1;33m \u001b[0mD\u001b[0m \u001b[1;33m=\u001b[0m \u001b[0mnp\u001b[0m\u001b[1;33m.\u001b[0m\u001b[0mdot\u001b[0m\u001b[1;33m(\u001b[0m\u001b[0mC\u001b[0m\u001b[1;33m,\u001b[0m \u001b[0mB\u001b[0m\u001b[1;33m)\u001b[0m\u001b[1;33m\u001b[0m\u001b[1;33m\u001b[0m\u001b[0m\n\u001b[0m",
      "\u001b[1;32m<__array_function__ internals>\u001b[0m in \u001b[0;36mdot\u001b[1;34m(*args, **kwargs)\u001b[0m\n",
      "\u001b[1;31mValueError\u001b[0m: shapes (3,2) and (3,) not aligned: 2 (dim 1) != 3 (dim 0)"
     ]
    }
   ],
   "source": [
    "A = np.array([[1, 2, 3], [4, 5, 6]])\n",
    "B = np.array([10, 20, 30])\n",
    "C = A.T\n",
    "D = np.dot(C, B)"
   ]
  },
  {
   "cell_type": "markdown",
   "metadata": {},
   "source": [
    "Error 원인: 행렬과 행렬 아닌 벡터끼리 행렬곱을 할 수 없음."
   ]
  },
  {
   "cell_type": "markdown",
   "metadata": {},
   "source": [
    "## 예제 2-1."
   ]
  },
  {
   "cell_type": "code",
   "execution_count": 63,
   "metadata": {},
   "outputs": [
    {
     "name": "stdout",
     "output_type": "stream",
     "text": [
      "value = 2\n",
      "value = 4\n",
      "value = 1\n",
      "value = 2\n",
      "value = 0\n",
      "value = 5\n",
      "\n",
      "value = 2\n",
      "value = 4\n",
      "value = 1\n",
      "value = 2\n",
      "value = 0\n",
      "value = 5\n"
     ]
    }
   ],
   "source": [
    "def func1(var):\n",
    "    for col in range(var.shape[0]):\n",
    "        for row in range(var.shape[1]):\n",
    "            print(\"value =\", var[col, row])\n",
    "            \n",
    "def func2(var):\n",
    "    it = np.nditer(var, flags=['multi_index'], op_flags=['readwrite'])\n",
    "    \n",
    "    while not it.finished:\n",
    "        idx = it.multi_index\n",
    "        print(\"value =\", var[idx])\n",
    "        it.iternext()\n",
    "            \n",
    "var = np.array([[2, 4], [1, 2], [0, 5]])\n",
    "func1(var)\n",
    "print()\n",
    "func2(var)"
   ]
  },
  {
   "cell_type": "markdown",
   "metadata": {},
   "source": [
    "## 예제 2-2."
   ]
  },
  {
   "cell_type": "code",
   "execution_count": 68,
   "metadata": {},
   "outputs": [
    {
     "name": "stdout",
     "output_type": "stream",
     "text": [
      "[[7 5 3]\n",
      " [1 1 2]\n",
      " [3 4 4]\n",
      " [0 2 8]]\n",
      "\n",
      "[[5]\n",
      " [1]]\n",
      "\n",
      "[[1 1]\n",
      " [3 4]\n",
      " [0 2]]\n",
      "\n",
      "[0 2 1 2]\n",
      "\n",
      "[[1 1 3 4 0 2]]\n",
      "\n",
      "11\n",
      "\n",
      "[[1.94591015 1.60943791 1.09861229 0.        ]\n",
      " [0.         0.69314718 1.09861229 1.38629436]\n",
      " [1.38629436       -inf 0.69314718 2.07944154]]\n"
     ]
    },
    {
     "name": "stderr",
     "output_type": "stream",
     "text": [
      "C:\\Users\\leeye\\anaconda3\\lib\\site-packages\\ipykernel_launcher.py:9: RuntimeWarning: divide by zero encountered in log\n",
      "  if __name__ == '__main__':\n"
     ]
    }
   ],
   "source": [
    "X = np.array([[7, 5, 3, 1], [1, 2, 3, 4], [4, 0, 2, 8]])\n",
    "\n",
    "A = X.reshape(-1, 3)\n",
    "B = A[0:2, 1:2]\n",
    "C = A[1:, :-1]\n",
    "D = np.argmax(A, 1)\n",
    "E = C.reshape(-1, 6)\n",
    "F = np.sum(E)\n",
    "G = np.log(X)\n",
    "\n",
    "print(A, B, C, D, E, F, G, sep='\\n\\n')"
   ]
  },
  {
   "cell_type": "markdown",
   "metadata": {},
   "source": [
    "```python\n",
    "[[7, 5, 3],\n",
    " [1, 1, 2],\n",
    " [3, 4, 4],\n",
    " [0, 2, 8]]\n",
    "\n",
    "[[5],\n",
    " [1]]\n",
    "\n",
    "[[1, 1],\n",
    " [3, 4],\n",
    " [0, 2]]\n",
    "\n",
    "axis 없음 -> Error\n",
    "\n",
    "원소가 2개인데 열이 6개인 행렬을 만들 수 없음 -> Error\n",
    "\n",
    "E가 Error -> Error\n",
    "```"
   ]
  },
  {
   "cell_type": "markdown",
   "metadata": {},
   "source": [
    "## 예제 2-3."
   ]
  },
  {
   "cell_type": "code",
   "execution_count": 74,
   "metadata": {},
   "outputs": [
    {
     "data": {
      "text/plain": [
       "40.125392747587014"
      ]
     },
     "execution_count": 74,
     "metadata": {},
     "output_type": "execute_result"
    }
   ],
   "source": [
    "def loss_func(xdata, tdata):\n",
    "    W = np.array([[np.random.rand(1, 1)]])\n",
    "    b = np.array([np.random.rand(1)])\n",
    "    \n",
    "    y = np.dot(xdata, W) + b\n",
    "    \n",
    "    nth_term = (tdata - y) ** 2\n",
    "    \n",
    "    it = np.nditer(nth_term, flags=['multi_index'], op_flags=['readwrite'])\n",
    "    \n",
    "    total = 0\n",
    "    \n",
    "    while not it.finished:\n",
    "        idx = it.multi_index\n",
    "        total += nth_term[idx]\n",
    "        it.iternext()\n",
    "        \n",
    "    loss = total / 5\n",
    "    \n",
    "    return loss\n",
    "\n",
    "xdata = np.array([1, 2, 3, 4, 5]).reshape(5, 1)\n",
    "tdata = np.array([3, 4, 5, 6, 7]).reshape(5, 1)\n",
    "\n",
    "loss_func(xdata, tdata)"
   ]
  },
  {
   "cell_type": "code",
   "execution_count": 75,
   "metadata": {},
   "outputs": [
    {
     "data": {
      "text/plain": [
       "106.04919316056309"
      ]
     },
     "execution_count": 75,
     "metadata": {},
     "output_type": "execute_result"
    }
   ],
   "source": [
    "def loss_func(xdata, tdata):\n",
    "    W = np.array([[np.random.rand(1, 1)]])\n",
    "    b = np.array([np.random.rand(1)])\n",
    "    \n",
    "    y = np.dot(xdata, W) + b\n",
    "    \n",
    "    loss = np.sum((tdata - y) ** 2) / len(xdata)\n",
    "    \n",
    "    return loss\n",
    "\n",
    "xdata = np.array([1, 2, 3, 4, 5]).reshape(5, 1)\n",
    "tdata = np.array([3, 4, 5, 6, 7]).reshape(5, 1)\n",
    "\n",
    "loss_func(xdata, tdata)"
   ]
  },
  {
   "cell_type": "markdown",
   "metadata": {},
   "source": [
    "# 수치미분"
   ]
  },
  {
   "cell_type": "markdown",
   "metadata": {},
   "source": [
    "## 예제 1-1."
   ]
  },
  {
   "cell_type": "code",
   "execution_count": 15,
   "metadata": {
    "scrolled": true
   },
   "outputs": [
    {
     "name": "stdout",
     "output_type": "stream",
     "text": [
      "66.50150507518049\n",
      "66.50150489037586\n"
     ]
    }
   ],
   "source": [
    "import numpy as np\n",
    "\n",
    "def func2(x):\n",
    "    return 3*x*np.exp(x)\n",
    "\n",
    "f = lambda x : func2(x)\n",
    "\n",
    "def numerical_derivative2(f, x):\n",
    "    delta_x = 1e-4\n",
    "    \n",
    "    return (f(x + delta_x) - f(x - delta_x)) / (2*delta_x)\n",
    "\n",
    "x = 2.0\n",
    "\n",
    "print(numerical_derivative2(f, x))\n",
    "print(3*np.exp(2.0) + 3*2.0*np.exp(2.0))"
   ]
  },
  {
   "cell_type": "markdown",
   "metadata": {},
   "source": [
    "## 편미분 코드"
   ]
  },
  {
   "cell_type": "code",
   "execution_count": 38,
   "metadata": {},
   "outputs": [],
   "source": [
    "import numpy as np\n",
    "\n",
    "def numerical_derivative(f, x):\n",
    "    delta_x = 1e-4\n",
    "    grad = np.zeros_like(x)\n",
    "    \n",
    "    print('debug 1. initial input variable = ', x)\n",
    "    print('debug 2. initial grad = ', grad)\n",
    "    print('========================================')\n",
    "    \n",
    "    it = np.nditer(x, flags=['multi_index'], op_flags=['readwrite'])\n",
    "    \n",
    "    while not it.finished:\n",
    "        idx = it.multi_index\n",
    "        \n",
    "        print('debug 3. idx = ', idx, ', x[idx] = ', x[idx])\n",
    "        \n",
    "        tmp_val = x[idx]\n",
    "        x[idx] = float(tmp_val) + delta_x\n",
    "        fx1 = f(x) # f(x + delta_x)\n",
    "        \n",
    "        x[idx] = float(tmp_val) - delta_x\n",
    "        fx2 = f(x) # f(x - delta_x)\n",
    "        grad[idx] = (fx1 - fx2) / (2*delta_x)\n",
    "        \n",
    "        print('debug 4. grad[idx] = ', grad[idx])\n",
    "        print('debug 5. grad = ', grad)\n",
    "        print('=======================================')\n",
    "        \n",
    "        x[idx] = tmp_val\n",
    "        it.iternext()\n",
    "        \n",
    "    return grad"
   ]
  },
  {
   "cell_type": "markdown",
   "metadata": {},
   "source": [
    "## 예제 2-1."
   ]
  },
  {
   "cell_type": "code",
   "execution_count": 39,
   "metadata": {},
   "outputs": [
    {
     "name": "stdout",
     "output_type": "stream",
     "text": [
      "debug 1. initial input variable =  [3.]\n",
      "debug 2. initial grad =  [0.]\n",
      "========================================\n",
      "debug 3. idx =  (0,) , x[idx] =  3.0\n",
      "debug 4. grad[idx] =  6.000000000012662\n",
      "debug 5. grad =  [6.]\n",
      "=======================================\n",
      "type(ret) =  <class 'numpy.ndarray'> , ret_val =  [6.]\n"
     ]
    }
   ],
   "source": [
    "def func1(W):\n",
    "    x = W\n",
    "    return x**2\n",
    "\n",
    "f = lambda W : func1(W)\n",
    "\n",
    "W = np.array([3.0])\n",
    "\n",
    "ret = numerical_derivative(f, W)\n",
    "print('type(ret) = ', type(ret), ', ret_val = ', ret)"
   ]
  },
  {
   "cell_type": "markdown",
   "metadata": {},
   "source": [
    "## 예제 2-2."
   ]
  },
  {
   "cell_type": "code",
   "execution_count": 42,
   "metadata": {},
   "outputs": [
    {
     "name": "stdout",
     "output_type": "stream",
     "text": [
      "debug 1. initial input variable =  [1. 2.]\n",
      "debug 2. initial grad =  [0. 0.]\n",
      "========================================\n",
      "debug 3. idx =  (0,) , x[idx] =  1.0\n",
      "debug 4. grad[idx] =  7.999999999990237\n",
      "debug 5. grad =  [8. 0.]\n",
      "=======================================\n",
      "debug 3. idx =  (1,) , x[idx] =  2.0\n",
      "debug 4. grad[idx] =  15.000000010019221\n",
      "debug 5. grad =  [ 8.         15.00000001]\n",
      "=======================================\n",
      "type(ret) =  <class 'numpy.ndarray'> , ret_val =  [ 8.         15.00000001]\n"
     ]
    }
   ],
   "source": [
    "def func2(x, y):\n",
    "    return 2*x + 3*x*y + y**3\n",
    "\n",
    "f = lambda W : func2(W[0], W[1])\n",
    "\n",
    "W = np.array([1.0, 2.0])\n",
    "\n",
    "ret = numerical_derivative(f, W)\n",
    "print('type(ret) = ', type(ret), ', ret_val = ', ret)"
   ]
  },
  {
   "cell_type": "markdown",
   "metadata": {},
   "source": [
    "## 예제 2-3."
   ]
  },
  {
   "cell_type": "code",
   "execution_count": 41,
   "metadata": {},
   "outputs": [
    {
     "name": "stdout",
     "output_type": "stream",
     "text": [
      "debug 1. initial input variable =  [[1. 2.]\n",
      " [3. 4.]]\n",
      "debug 2. initial grad =  [[0. 0.]\n",
      " [0. 0.]]\n",
      "========================================\n",
      "debug 3. idx =  (0, 0) , x[idx] =  1.0\n",
      "debug 4. grad[idx] =  0.0\n",
      "debug 5. grad =  [[0. 0.]\n",
      " [0. 0.]]\n",
      "=======================================\n",
      "debug 3. idx =  (0, 1) , x[idx] =  2.0\n",
      "debug 4. grad[idx] =  19.0000000000623\n",
      "debug 5. grad =  [[ 0. 19.]\n",
      " [ 0.  0.]]\n",
      "=======================================\n",
      "debug 3. idx =  (1, 0) , x[idx] =  3.0\n",
      "debug 4. grad[idx] =  31.999999999996476\n",
      "debug 5. grad =  [[ 0. 19.]\n",
      " [32.  0.]]\n",
      "=======================================\n",
      "debug 3. idx =  (1, 1) , x[idx] =  4.0\n",
      "debug 4. grad[idx] =  15.000000000000568\n",
      "debug 5. grad =  [[ 0. 19.]\n",
      " [32. 15.]]\n",
      "=======================================\n",
      "type(ret) =  <class 'numpy.ndarray'> , ret_val =  [[ 0. 19.]\n",
      " [32. 15.]]\n"
     ]
    }
   ],
   "source": [
    "def func3(w, x, y, z):\n",
    "    return w*x + x*y*z + 3*w + z*(y**2)\n",
    "\n",
    "f = lambda W : func3(W[0][1], W[0][1], W[1][0], W[1][1])\n",
    "\n",
    "W = np.array([[1.0, 2.0], [3.0, 4.0]])\n",
    "\n",
    "ret = numerical_derivative(f, W)\n",
    "print('type(ret) = ', type(ret), ', ret_val = ', ret)"
   ]
  },
  {
   "cell_type": "markdown",
   "metadata": {},
   "source": [
    "## 예제 2-4."
   ]
  },
  {
   "cell_type": "code",
   "execution_count": 40,
   "metadata": {},
   "outputs": [
    {
     "name": "stdout",
     "output_type": "stream",
     "text": [
      "debug 1. initial input variable =  [3]\n",
      "debug 2. initial grad =  [0]\n",
      "========================================\n",
      "debug 3. idx =  (0,) , x[idx] =  3\n",
      "debug 4. grad[idx] =  25000\n",
      "debug 5. grad =  [25000]\n",
      "=======================================\n",
      "type(ret) =  <class 'numpy.ndarray'> , ret_val =  [25000]\n",
      "debug 1. initial input variable =  [3.]\n",
      "debug 2. initial grad =  [0.]\n",
      "========================================\n",
      "debug 3. idx =  (0,) , x[idx] =  3.0\n",
      "debug 4. grad[idx] =  6.000000000012662\n",
      "debug 5. grad =  [6.]\n",
      "=======================================\n",
      "type(ret) =  <class 'numpy.ndarray'> , ret_val =  [6.]\n"
     ]
    }
   ],
   "source": [
    "f = lambda W : func1(W)\n",
    "\n",
    "W = np.array([3])\n",
    "ret = numerical_derivative(f, W)\n",
    "print('type(ret) = ', type(ret), ', ret_val = ', ret)\n",
    "\n",
    "W = np.array([3.0])\n",
    "ret = numerical_derivative(f, W)\n",
    "print('type(ret) = ', type(ret), ', ret_val = ', ret)"
   ]
  },
  {
   "cell_type": "markdown",
   "metadata": {},
   "source": [
    "# 선형회귀 예제 1"
   ]
  },
  {
   "cell_type": "code",
   "execution_count": 1,
   "metadata": {},
   "outputs": [],
   "source": [
    "import numpy as np\n",
    "\n",
    "def numerical_derivative(f, x):\n",
    "    delta_x = 1e-4 # 0.0001\n",
    "    grad = np.zeros_like(x)\n",
    "    \n",
    "    it = np.nditer(x, flags=['multi_index'], op_flags=['readwrite'])\n",
    "    \n",
    "    while not it.finished:\n",
    "        idx = it.multi_index        \n",
    "        tmp_val = x[idx]\n",
    "        x[idx] = float(tmp_val) + delta_x\n",
    "        fx1 = f(x) # f(x+delta_x)\n",
    "        \n",
    "        x[idx] = float(tmp_val) - delta_x \n",
    "        fx2 = f(x) # f(x-delta_x)\n",
    "        grad[idx] = (fx1 - fx2) / (2*delta_x)\n",
    "        \n",
    "        x[idx] = tmp_val \n",
    "        it.iternext()   \n",
    "        \n",
    "    return grad"
   ]
  },
  {
   "cell_type": "code",
   "execution_count": 2,
   "metadata": {},
   "outputs": [
    {
     "name": "stdout",
     "output_type": "stream",
     "text": [
      "x_data.shape =  (5, 1) , t_data.shape =  (5, 1)\n"
     ]
    }
   ],
   "source": [
    "x_data = np.array([1.0, 2.0, 3.0, 4.0, 5.0]).reshape(5, 1)\n",
    "t_data = np.array([2.0, 3.0, 4.0, 5.0, 6.0]).reshape(5, 1)\n",
    "\n",
    "print(\"x_data.shape = \", x_data.shape, \", t_data.shape = \", t_data.shape)"
   ]
  },
  {
   "cell_type": "code",
   "execution_count": 3,
   "metadata": {},
   "outputs": [
    {
     "name": "stdout",
     "output_type": "stream",
     "text": [
      "W =  [[0.68788993]] , W.shape =  (1, 1) , b =  [0.23519016] , b.shape =  (1,)\n"
     ]
    }
   ],
   "source": [
    "W = np.random.rand(1, 1)\n",
    "b = np.random.rand(1)\n",
    "\n",
    "print(\"W = \", W, \", W.shape = \", W.shape, \", b = \", b, \", b.shape = \", b.shape)"
   ]
  },
  {
   "cell_type": "code",
   "execution_count": 2,
   "metadata": {},
   "outputs": [],
   "source": [
    "def loss_func(x, t):\n",
    "    y = np.dot(x, W) + b\n",
    "    \n",
    "    return (np.sum((t - y)**2)) / (len(x))"
   ]
  },
  {
   "cell_type": "code",
   "execution_count": 3,
   "metadata": {},
   "outputs": [],
   "source": [
    "# 손실함수 값 계산 함수\n",
    "# 입력변수 x, t : numpy type\n",
    "def loss_val(x, t):\n",
    "    y = np.dot(x, W) + b\n",
    "    \n",
    "    return (np.sum((t - y)**2)) / (len(x))\n",
    "\n",
    "# 학습을 마친 후, 임의의 데이터에 대해 미래 값 예측 함수\n",
    "# 입력변수 x : numpy type\n",
    "\n",
    "def predict(x):\n",
    "    y = np.dot(x, W) + b\n",
    "    \n",
    "    return y"
   ]
  },
  {
   "cell_type": "code",
   "execution_count": 7,
   "metadata": {},
   "outputs": [
    {
     "name": "stdout",
     "output_type": "stream",
     "text": [
      "Initial loss value =  10.181812180980097 Initial W =  [[0.30106418]] \n",
      " , b =  [0.06286786]\n",
      "step =  0 loss value =  6.028294563952544 W =  [[0.51105799]] , b =  [0.11094702]\n",
      "step =  400 loss value =  0.006345152260800199 W =  [[1.05172705]] , b =  [0.81329462]\n",
      "step =  800 loss value =  0.00040485822660676636 W =  [[1.01306617]] , b =  [0.95283854]\n",
      "step =  1200 loss value =  2.583234836834906e-05 W =  [[1.00330049]] , b =  [0.98808709]\n",
      "step =  1600 loss value =  1.6482565460428201e-06 W =  [[1.0008337]] , b =  [0.99699082]\n",
      "step =  2000 loss value =  1.0516851208540502e-07 W =  [[1.00021059]] , b =  [0.99923989]\n",
      "step =  2400 loss value =  6.710372824450655e-09 W =  [[1.00005319]] , b =  [0.999808]\n",
      "step =  2800 loss value =  4.2816145774597594e-10 W =  [[1.00001344]] , b =  [0.9999515]\n",
      "step =  3200 loss value =  2.731923228048877e-11 W =  [[1.00000339]] , b =  [0.99998775]\n",
      "step =  3600 loss value =  1.7431285311092202e-12 W =  [[1.00000086]] , b =  [0.99999691]\n",
      "step =  4000 loss value =  1.112219054897411e-13 W =  [[1.00000022]] , b =  [0.99999922]\n",
      "step =  4400 loss value =  7.0966151707973094e-15 W =  [[1.00000005]] , b =  [0.9999998]\n",
      "step =  4800 loss value =  4.528060049886876e-16 W =  [[1.00000001]] , b =  [0.99999995]\n",
      "step =  5200 loss value =  2.8891701908023444e-17 W =  [[1.]] , b =  [0.99999999]\n",
      "step =  5600 loss value =  1.8434616386118287e-18 W =  [[1.]] , b =  [1.]\n",
      "step =  6000 loss value =  1.1762370525163227e-19 W =  [[1.]] , b =  [1.]\n",
      "step =  6400 loss value =  7.505101060487106e-21 W =  [[1.]] , b =  [1.]\n",
      "step =  6800 loss value =  4.788690001828643e-22 W =  [[1.]] , b =  [1.]\n",
      "step =  7200 loss value =  3.055842098211106e-23 W =  [[1.]] , b =  [1.]\n",
      "step =  7600 loss value =  1.9517431692570135e-24 W =  [[1.]] , b =  [1.]\n",
      "step =  8000 loss value =  1.248846487916289e-25 W =  [[1.]] , b =  [1.]\n"
     ]
    }
   ],
   "source": [
    "learning_rate = 1e-2\n",
    "\n",
    "f = lambda x : loss_func(x_data, t_data)\n",
    "\n",
    "print(\"Initial loss value = \", loss_val(x_data, t_data), \"Initial W = \", W, \"\\n\", \", b = \", b)\n",
    "\n",
    "for step in range(8001):\n",
    "    W -= learning_rate * numerical_derivative(f, W)\n",
    "    b -= learning_rate * numerical_derivative(f, b)\n",
    "    \n",
    "    if (step % 400 == 0):\n",
    "        print(\"step = \", step, \"loss value = \", loss_val(x_data, t_data), \"W = \", W, \", b = \", b)"
   ]
  },
  {
   "cell_type": "code",
   "execution_count": 8,
   "metadata": {},
   "outputs": [
    {
     "data": {
      "text/plain": [
       "array([501.])"
      ]
     },
     "execution_count": 8,
     "metadata": {},
     "output_type": "execute_result"
    }
   ],
   "source": [
    "predict(np.array([500]))"
   ]
  },
  {
   "cell_type": "markdown",
   "metadata": {},
   "source": [
    "# 선형회귀 예제 2"
   ]
  },
  {
   "cell_type": "code",
   "execution_count": 2,
   "metadata": {},
   "outputs": [],
   "source": [
    "import numpy as np\n",
    "\n",
    "def numerical_derivative(f, x):\n",
    "    delta_x = 1e-4 # 0.0001\n",
    "    grad = np.zeros_like(x)\n",
    "    \n",
    "    it = np.nditer(x, flags=['multi_index'], op_flags=['readwrite'])\n",
    "    \n",
    "    while not it.finished:\n",
    "        idx = it.multi_index        \n",
    "        tmp_val = x[idx]\n",
    "        x[idx] = float(tmp_val) + delta_x\n",
    "        fx1 = f(x) # f(x+delta_x)\n",
    "        \n",
    "        x[idx] = float(tmp_val) - delta_x \n",
    "        fx2 = f(x) # f(x-delta_x)\n",
    "        grad[idx] = (fx1 - fx2) / (2*delta_x)\n",
    "        \n",
    "        x[idx] = tmp_val \n",
    "        it.iternext()   \n",
    "        \n",
    "    return grad"
   ]
  },
  {
   "cell_type": "code",
   "execution_count": 3,
   "metadata": {},
   "outputs": [
    {
     "name": "stdout",
     "output_type": "stream",
     "text": [
      "loaded_data :  [[ 73.  80.  75. 152.]\n",
      " [ 93.  88.  93. 185.]\n",
      " [ 89.  91.  90. 180.]\n",
      " [ 96.  98. 100. 196.]\n",
      " [ 73.  66.  70. 142.]\n",
      " [ 53.  46.  55. 101.]\n",
      " [ 69.  74.  77. 149.]\n",
      " [ 47.  56.  60. 115.]\n",
      " [ 87.  79.  90. 175.]\n",
      " [ 79.  70.  88. 164.]\n",
      " [ 69.  70.  73. 141.]\n",
      " [ 70.  65.  74. 141.]\n",
      " [ 93.  95.  91. 184.]\n",
      " [ 79.  80.  73. 152.]\n",
      " [ 70.  73.  78. 148.]\n",
      " [ 93.  89.  96. 192.]\n",
      " [ 78.  75.  68. 147.]\n",
      " [ 81.  90.  93. 183.]\n",
      " [ 88.  92.  86. 177.]\n",
      " [ 78.  83.  77. 159.]\n",
      " [ 82.  86.  90. 177.]\n",
      " [ 86.  82.  89. 175.]\n",
      " [ 78.  83.  85. 175.]\n",
      " [ 76.  83.  71. 149.]\n",
      " [ 96.  93.  95. 192.]] , loaded_data.shape :  (25, 4)\n",
      "x_data :  [[ 73.  80.  75.]\n",
      " [ 93.  88.  93.]\n",
      " [ 89.  91.  90.]\n",
      " [ 96.  98. 100.]\n",
      " [ 73.  66.  70.]\n",
      " [ 53.  46.  55.]\n",
      " [ 69.  74.  77.]\n",
      " [ 47.  56.  60.]\n",
      " [ 87.  79.  90.]\n",
      " [ 79.  70.  88.]\n",
      " [ 69.  70.  73.]\n",
      " [ 70.  65.  74.]\n",
      " [ 93.  95.  91.]\n",
      " [ 79.  80.  73.]\n",
      " [ 70.  73.  78.]\n",
      " [ 93.  89.  96.]\n",
      " [ 78.  75.  68.]\n",
      " [ 81.  90.  93.]\n",
      " [ 88.  92.  86.]\n",
      " [ 78.  83.  77.]\n",
      " [ 82.  86.  90.]\n",
      " [ 86.  82.  89.]\n",
      " [ 78.  83.  85.]\n",
      " [ 76.  83.  71.]\n",
      " [ 96.  93.  95.]] , x_data.shape :  (25, 3)\n",
      "t_data :  [[152.]\n",
      " [185.]\n",
      " [180.]\n",
      " [196.]\n",
      " [142.]\n",
      " [101.]\n",
      " [149.]\n",
      " [115.]\n",
      " [175.]\n",
      " [164.]\n",
      " [141.]\n",
      " [141.]\n",
      " [184.]\n",
      " [152.]\n",
      " [148.]\n",
      " [192.]\n",
      " [147.]\n",
      " [183.]\n",
      " [177.]\n",
      " [159.]\n",
      " [177.]\n",
      " [175.]\n",
      " [175.]\n",
      " [149.]\n",
      " [192.]] , t_data.shape :  (25, 1)\n"
     ]
    }
   ],
   "source": [
    "loaded_data = np.loadtxt('./data-01.csv', delimiter=',', dtype=np.float32)\n",
    "\n",
    "print(\"loaded_data : \", loaded_data, \", loaded_data.shape : \", loaded_data.shape)\n",
    "\n",
    "x_data = loaded_data[ : , :3]\n",
    "t_data = loaded_data[ : , 3:4]\n",
    "\n",
    "print(\"x_data : \", x_data, \", x_data.shape : \", x_data.shape)\n",
    "print(\"t_data : \", t_data, \", t_data.shape : \", t_data.shape)"
   ]
  },
  {
   "cell_type": "code",
   "execution_count": 4,
   "metadata": {},
   "outputs": [
    {
     "name": "stdout",
     "output_type": "stream",
     "text": [
      "W =  [[0.61360482]\n",
      " [0.53389665]\n",
      " [0.46287058]] , W.shape =  (3, 1) , b =  [0.67052173] , b.shape =  (1,)\n"
     ]
    }
   ],
   "source": [
    "W = np.random.rand(3, 1)\n",
    "b = np.random.rand(1)\n",
    "\n",
    "print(\"W = \", W, \", W.shape = \", W.shape, \", b = \", b, \", b.shape = \", b.shape)"
   ]
  },
  {
   "cell_type": "code",
   "execution_count": 5,
   "metadata": {},
   "outputs": [],
   "source": [
    "def loss_func(x, t):\n",
    "    y = np.dot(x, W) + b\n",
    "    \n",
    "    return (np.sum((t - y)**2)) / (len(x))"
   ]
  },
  {
   "cell_type": "code",
   "execution_count": 6,
   "metadata": {},
   "outputs": [],
   "source": [
    "# 손실함수 값 계산 함수\n",
    "# 입력변수 x, t : numpy type\n",
    "def loss_val(x, t):\n",
    "    y = np.dot(x, W) + b\n",
    "    \n",
    "    return (np.sum((t - y)**2)) / (len(x))\n",
    "\n",
    "# 학습을 마친 후, 임의의 데이터에 대해 미래 값 예측 함수\n",
    "# 입력변수 x : numpy type\n",
    "\n",
    "def predict(x):\n",
    "    y = np.dot(x, W) + b\n",
    "    \n",
    "    return y"
   ]
  },
  {
   "cell_type": "code",
   "execution_count": 8,
   "metadata": {},
   "outputs": [
    {
     "name": "stdout",
     "output_type": "stream",
     "text": [
      "Initial loss value =  3.5289680625647305e+29 Initial W =  [[-2.77934731e+12]\n",
      " [-2.91458394e+12]\n",
      " [-1.67641489e+12]] \n",
      " , b =  [1.05579589e+08]\n",
      "step =  0 loss value =  3.5289680625647305e+29\n",
      "step =  1000 loss value =  3.5289680625647305e+29\n",
      "step =  2000 loss value =  3.5289680625647305e+29\n",
      "step =  3000 loss value =  3.5289680625647305e+29\n",
      "step =  4000 loss value =  3.5289680625647305e+29\n",
      "step =  5000 loss value =  3.5289680625647305e+29\n",
      "step =  6000 loss value =  3.5289680625647305e+29\n",
      "step =  7000 loss value =  3.5289680625647305e+29\n",
      "step =  8000 loss value =  3.5289680625647305e+29\n"
     ]
    }
   ],
   "source": [
    "learning_rate = 1e-4\n",
    "\n",
    "f = lambda x : loss_func(x_data, t_data)\n",
    "\n",
    "print(\"Initial loss value = \", loss_val(x_data, t_data), \"Initial W = \", W, \"\\n\", \", b = \", b)\n",
    "\n",
    "for step in range(8001):\n",
    "    W -= learning_rate * numerical_derivative(f, W)\n",
    "    b -= learning_rate * numerical_derivative(f, b)\n",
    "    \n",
    "    if (step % 1000 == 0):\n",
    "        print(\"step = \", step, \"loss value = \", loss_val(x_data, t_data))"
   ]
  }
 ],
 "metadata": {
  "kernelspec": {
   "display_name": "Python 3",
   "language": "python",
   "name": "python3"
  },
  "language_info": {
   "codemirror_mode": {
    "name": "ipython",
    "version": 3
   },
   "file_extension": ".py",
   "mimetype": "text/x-python",
   "name": "python",
   "nbconvert_exporter": "python",
   "pygments_lexer": "ipython3",
   "version": "3.7.6"
  }
 },
 "nbformat": 4,
 "nbformat_minor": 4
}
