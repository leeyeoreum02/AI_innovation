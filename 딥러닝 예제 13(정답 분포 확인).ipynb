{
 "cells": [
  {
   "cell_type": "code",
   "execution_count": 1,
   "metadata": {},
   "outputs": [
    {
     "name": "stdout",
     "output_type": "stream",
     "text": [
      "<class 'numpy.ndarray'> <class 'numpy.ndarray'>\n",
      "[2 5 6 7 8 9]\n",
      "[3 2 2 1 1 1]\n"
     ]
    }
   ],
   "source": [
    "import numpy as np\n",
    "\n",
    "A = np.array([5, 2, 6, 2, 7, 5, 6, 8, 2, 9])\n",
    "\n",
    "unique, counts = np.unique(A, return_counts=True)\n",
    "\n",
    "print(type(unique), type(counts))\n",
    "print(unique)\n",
    "print(counts)"
   ]
  },
  {
   "cell_type": "code",
   "execution_count": 2,
   "metadata": {},
   "outputs": [],
   "source": [
    "try:\n",
    "    diabetes_data = np.loadtxt('./diabetes.csv', delimiter=',', dtype=np.float32)\n",
    "    ThoracicSurgery_data = np.loadtxt('./ThoracicSurgery.csv', delimiter=',', dtype=np.float32)\n",
    "    wine_data = np.loadtxt('./wine.csv', delimiter=',', dtype=np.float32)\n",
    "    \n",
    "except Exception as err:\n",
    "    print(str(err))"
   ]
  },
  {
   "cell_type": "code",
   "execution_count": 6,
   "metadata": {},
   "outputs": [
    {
     "name": "stdout",
     "output_type": "stream",
     "text": [
      "type(unique) :  <class 'numpy.ndarray'> , type(counts) :  <class 'numpy.ndarray'>\n",
      "=================================================================================\n",
      "unique_element :  [0. 1.]\n",
      "element_counts :  [263 496]\n",
      "=================================================================================\n",
      "unique number =  0.0 count =  263\n",
      "unique number =  1.0 count =  496\n",
      "ratio of 0.0 =\n",
      "ratio of 1.0 =\n"
     ]
    }
   ],
   "source": [
    "diabetes_tdata = diabetes_data[ : , -1: ]\n",
    "\n",
    "unique, counts = np.unique(diabetes_tdata, return_counts=True)\n",
    "\n",
    "print(\"type(unique) : \", type(unique), \", type(counts) : \", type(counts))\n",
    "print(\"=================================================================================\")\n",
    "print(\"unique_element : \", unique)\n",
    "print(\"element_counts : \", counts)\n",
    "print(\"=================================================================================\")\n",
    "\n",
    "for index in range(len(unique)):\n",
    "    print(\"unique number = \", unique[index], \"count = \", counts[index])\n",
    "    \n",
    "for index in range(len(counts)):\n",
    "    print(\"ratio of\", unique[index], \"=\", )"
   ]
  },
  {
   "cell_type": "code",
   "execution_count": 4,
   "metadata": {},
   "outputs": [
    {
     "name": "stdout",
     "output_type": "stream",
     "text": [
      "type(unique) :  <class 'numpy.ndarray'> , type(counts) :  <class 'numpy.ndarray'>\n",
      "=================================================================================\n",
      "unique_element :  [0. 1.]\n",
      "element_counts :  [400  70]\n",
      "=================================================================================\n",
      "0_ratio =  85.1063829787234 %\n",
      "1_ratio =  14.893617021276595 %\n"
     ]
    }
   ],
   "source": [
    "ThoracicSurgery_tdata = ThoracicSurgery_data[ : , -1: ]\n",
    "\n",
    "unique, counts = np.unique(ThoracicSurgery_tdata, return_counts=True)\n",
    "\n",
    "print(\"type(unique) : \", type(unique), \", type(counts) : \", type(counts))\n",
    "print(\"=================================================================================\")\n",
    "print(\"unique_element : \", unique)\n",
    "print(\"element_counts : \", counts)\n",
    "print(\"=================================================================================\")\n",
    "\n",
    "ratio_of_0 = counts[0] / sum(counts)\n",
    "ratio_of_1 = counts[1] / sum(counts)\n",
    "\n",
    "print(\"0_ratio = \", ratio_of_0 * 100, \"%\")\n",
    "print(\"1_ratio = \", ratio_of_1 * 100, \"%\")"
   ]
  },
  {
   "cell_type": "code",
   "execution_count": 5,
   "metadata": {},
   "outputs": [
    {
     "name": "stdout",
     "output_type": "stream",
     "text": [
      "type(unique) :  <class 'numpy.ndarray'> , type(counts) :  <class 'numpy.ndarray'>\n",
      "=================================================================================\n",
      "unique_element :  [0. 1.]\n",
      "element_counts :  [4898 1599]\n",
      "=================================================================================\n",
      "0_ratio =  75.38864091118978 %\n",
      "1_ratio =  24.611359088810218 %\n"
     ]
    }
   ],
   "source": [
    "wine_tdata = wine_data[ : , -1: ]\n",
    "\n",
    "unique, counts = np.unique(wine_tdata, return_counts=True)\n",
    "\n",
    "print(\"type(unique) : \", type(unique), \", type(counts) : \", type(counts))\n",
    "print(\"=================================================================================\")\n",
    "print(\"unique_element : \", unique)\n",
    "print(\"element_counts : \", counts)\n",
    "print(\"=================================================================================\")\n",
    "\n",
    "ratio_of_0 = counts[0] / sum(counts)\n",
    "ratio_of_1 = counts[1] / sum(counts)\n",
    "\n",
    "print(\"0_ratio = \", ratio_of_0 * 100, \"%\")\n",
    "print(\"1_ratio = \", ratio_of_1 * 100, \"%\")"
   ]
  }
 ],
 "metadata": {
  "kernelspec": {
   "display_name": "Python 3",
   "language": "python",
   "name": "python3"
  },
  "language_info": {
   "codemirror_mode": {
    "name": "ipython",
    "version": 3
   },
   "file_extension": ".py",
   "mimetype": "text/x-python",
   "name": "python",
   "nbconvert_exporter": "python",
   "pygments_lexer": "ipython3",
   "version": "3.7.6"
  }
 },
 "nbformat": 4,
 "nbformat_minor": 4
}
