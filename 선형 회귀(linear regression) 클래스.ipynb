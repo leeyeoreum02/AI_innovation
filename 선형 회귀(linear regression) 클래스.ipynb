{
 "cells": [
  {
   "cell_type": "code",
   "execution_count": 1,
   "metadata": {},
   "outputs": [],
   "source": [
    "import numpy as np\n",
    "from datetime import datetime\n",
    "import matplotlib.pyplot as plt\n",
    "\n",
    "np.random.seed(0)"
   ]
  },
  {
   "cell_type": "code",
   "execution_count": 2,
   "metadata": {},
   "outputs": [],
   "source": [
    "def numerical_derivative(f, x):\n",
    "        delta_x = 1e-4 # 0.0001\n",
    "        grad = np.zeros_like(x)\n",
    "    \n",
    "        it = np.nditer(x, flags=['multi_index'], op_flags=['readwrite'])\n",
    "    \n",
    "        while not it.finished:\n",
    "            idx = it.multi_index        \n",
    "            tmp_val = x[idx]\n",
    "            x[idx] = float(tmp_val) + delta_x\n",
    "            fx1 = f(x) # f(x+delta_x)\n",
    "        \n",
    "            x[idx] = float(tmp_val) - delta_x \n",
    "            fx2 = f(x) # f(x-delta_x)\n",
    "            grad[idx] = (fx1 - fx2) / (2*delta_x)\n",
    "        \n",
    "            x[idx] = tmp_val \n",
    "            it.iternext()   \n",
    "        \n",
    "        return grad"
   ]
  },
  {
   "cell_type": "code",
   "execution_count": 3,
   "metadata": {},
   "outputs": [],
   "source": [
    "class LinearRegressionTest:\n",
    "    def __init__(self, x_data, t_data, learning_rate, iteration_count):\n",
    "        \n",
    "        # 가중치 W 형상을 자동으로 구하기 위해 입력데이터가 vector 인지,\n",
    "        # 아니면 matrix 인지 체크 후, \n",
    "        # self.xdata 는 무조건 matrix 로 만들어 주면 코드 일관성이 있음\n",
    "        if x_data.ndim == 1:    # vector\n",
    "            self.x_data = x_data.reshape(len(x_data), 1)\n",
    "            self.t_data = t_data.reshape(len(t_data), 1)\n",
    "        elif x_data.ndim == 2:  # matrix\n",
    "            self.x_data = x_data\n",
    "            self.t_data = t_data\n",
    "        \n",
    "        self.learning_rate = learning_rate\n",
    "        self.iteration_count = iteration_count\n",
    "        \n",
    "        self.W = np.random.rand(self.x_data.shape[1], 1)\n",
    "        self.b = np.random.rand(1)\n",
    "        \n",
    "        self.loss_val_list = []\n",
    "        \n",
    "        print(\"LinearRegressionTest Object is created.\\n\")\n",
    "        \n",
    "    def get_W_b(self):\n",
    "        return self.W, self.b\n",
    "        \n",
    "    def __loss_func(self):\n",
    "        y = np.dot(self.x_data, self.W) + self.b\n",
    "    \n",
    "        return (np.sum((self.t_data - y)**2)) / (len(self.x_data))\n",
    "    \n",
    "    # 손실함수 값 계산 함수\n",
    "    # 입력변수 x, t : numpy type\n",
    "    def __loss_val(self):\n",
    "        y = np.dot(self.x_data, self.W) + self.b\n",
    "    \n",
    "        return (np.sum((self.t_data - y)**2)) / (len(self.x_data))\n",
    "\n",
    "    def train(self):\n",
    "        f = lambda x : self.__loss_func()\n",
    "        \n",
    "        print(\"Initial error value = \", self.__loss_val() , \"\\n\", \"Initial W = \", self.W, \"\\n\", \", b = \", self.b )\n",
    "\n",
    "        start_time = datetime.now()\n",
    "\n",
    "        for step in range(self.iteration_count):\n",
    "            self.W -= self.learning_rate * numerical_derivative(f, self.W)\n",
    "            self.b -= self.learning_rate * numerical_derivative(f, self.b)\n",
    "            \n",
    "            if step % (int)(0.05*self.iteration_count) == 0:\n",
    "                print(\"step = \", step, \"loss value = \", self.__loss_val())\n",
    "                self.loss_val_list.append(self.__loss_val())\n",
    "        \n",
    "        end_time = datetime.now()\n",
    "\n",
    "        print(\"\")\n",
    "        print(\"Elapsed Time => \", end_time - start_time)\n",
    "        \n",
    "    def display_lossval_trend(self):\n",
    "        plt.title('Loss Value Trend')\n",
    "        plt.xlabel('epochs ( X 1000)')\n",
    "        plt.ylabel('loss value')\n",
    "        plt.grid()\n",
    "\n",
    "        plt.plot(self.loss_val_list, ls='--', lw=2, label='lr={}, epoch={}'.format(self.learning_rate, self.iteration_count))\n",
    "        plt.legend(loc='best')\n",
    "\n",
    "        plt.show()\n",
    "    \n",
    "    # 학습을 마친 후, 임의의 데이터에 대해 미래 값 예측 함수\n",
    "    # 입력변수 x : numpy type\n",
    "    def predict(self, test_data):\n",
    "        y = np.dot(test_data, self.W) + self.b\n",
    "    \n",
    "        return y"
   ]
  },
  {
   "cell_type": "code",
   "execution_count": 4,
   "metadata": {},
   "outputs": [
    {
     "name": "stdout",
     "output_type": "stream",
     "text": [
      "x_data.ndim =  2 , x_data.shape =  (50, 4)\n",
      "t_data.ndim =  2 , t_data.shape =  (50, 1)\n"
     ]
    }
   ],
   "source": [
    "try:\n",
    "    loaded_data =  np.loadtxt('./sps.csv', delimiter=',', dtype=np.float32)\n",
    "    \n",
    "    x_data = loaded_data[ : , :-1]\n",
    "    t_data = loaded_data[ : , [-1]]\n",
    "\n",
    "    print(\"x_data.ndim = \", x_data.ndim, \", x_data.shape = \", x_data.shape)\n",
    "    print(\"t_data.ndim = \", t_data.ndim, \", t_data.shape = \", t_data.shape) \n",
    "\n",
    "except FileNotFoundError as err:\n",
    "    print(str(err))\n",
    "except IndexError as err:\n",
    "    print(str(err))\n",
    "except Exception as err:\n",
    "    print(str(err))"
   ]
  },
  {
   "cell_type": "code",
   "execution_count": 5,
   "metadata": {},
   "outputs": [
    {
     "name": "stdout",
     "output_type": "stream",
     "text": [
      "LinearRegressionTest Object is created.\n",
      "\n",
      "Initial error value =  45.54746161183054 \n",
      " Initial W =  [[0.5488135 ]\n",
      " [0.71518937]\n",
      " [0.60276338]\n",
      " [0.54488318]] \n",
      " , b =  [0.4236548]\n",
      "step =  0 loss value =  39.97037124733441\n",
      "step =  1000 loss value =  0.01423994537496498\n",
      "step =  2000 loss value =  0.0017298923585877181\n",
      "step =  3000 loss value =  0.00021148383057585822\n",
      "step =  4000 loss value =  2.585446038955902e-05\n",
      "step =  5000 loss value =  3.1607765047592983e-06\n",
      "step =  6000 loss value =  3.864133291740798e-07\n",
      "step =  7000 loss value =  4.724005659326546e-08\n",
      "step =  8000 loss value =  5.775222484453521e-09\n",
      "step =  9000 loss value =  7.060362994927846e-10\n",
      "step =  10000 loss value =  8.631481428633986e-11\n",
      "step =  11000 loss value =  1.0552215475491281e-11\n",
      "step =  12000 loss value =  1.2900363905236163e-12\n",
      "step =  13000 loss value =  1.5771037773183178e-13\n",
      "step =  14000 loss value =  1.9280512956453528e-14\n",
      "step =  15000 loss value =  2.3570939923788943e-15\n",
      "step =  16000 loss value =  2.8816100678588145e-16\n",
      "step =  17000 loss value =  3.522844786058353e-17\n",
      "step =  18000 loss value =  4.306771570740553e-18\n",
      "step =  19000 loss value =  5.265145672536764e-19\n",
      "step =  20000 loss value =  6.436788889747758e-20\n",
      "\n",
      "Elapsed Time =>  0:00:17.106531\n"
     ]
    }
   ],
   "source": [
    "obj1 = LinearRegressionTest(x_data, t_data, 1e-3, 20001)\n",
    "obj1.train()"
   ]
  },
  {
   "cell_type": "code",
   "execution_count": 6,
   "metadata": {},
   "outputs": [
    {
     "data": {
      "image/png": "[encoded data removed]",
      "text/plain": [
       "<Figure size 432x288 with 1 Axes>"
      ]
     },
     "metadata": {
      "needs_background": "light"
     },
     "output_type": "display_data"
    }
   ],
   "source": [
    "obj.display_lossval_trend()"
   ]
  },
  {
   "cell_type": "code",
   "execution_count": 8,
   "metadata": {},
   "outputs": [
    {
     "name": "stdout",
     "output_type": "stream",
     "text": [
      "predict_value:  [2.]\n"
     ]
    }
   ],
   "source": [
    "print(\"predict_value: \", obj1.predict(np.array([5, 6, 7, 8])))"
   ]
  },
  {
   "cell_type": "code",
   "execution_count": 8,
   "metadata": {},
   "outputs": [
    {
     "name": "stdout",
     "output_type": "stream",
     "text": [
      "LinearRegressionTest Object is created.\n",
      "\n",
      "Initial error value =  64.45914651718505 \n",
      " Initial W =  [[0.64589411]\n",
      " [0.43758721]\n",
      " [0.891773  ]\n",
      " [0.96366276]] \n",
      " , b =  [0.38344152]\n",
      "step =  0 loss value =  63.663443917363054\n",
      "step =  1000 loss value =  4.652308743966487\n",
      "step =  2000 loss value =  1.4517296964231874\n",
      "step =  3000 loss value =  0.4769793416658176\n",
      "step =  4000 loss value =  0.1727987357665754\n",
      "step =  5000 loss value =  0.07469490283434937\n",
      "step =  6000 loss value =  0.04056134467574345\n",
      "step =  7000 loss value =  0.026769651140859357\n",
      "step =  8000 loss value =  0.01983260075597924\n",
      "step =  9000 loss value =  0.015506339005916778\n",
      "step =  10000 loss value =  0.012395836888567038\n",
      "step =  11000 loss value =  0.009995525116549995\n",
      "step =  12000 loss value =  0.008086744917828055\n",
      "step =  13000 loss value =  0.006550691270908382\n",
      "step =  14000 loss value =  0.005308924824359094\n",
      "step =  15000 loss value =  0.004303321583402075\n",
      "step =  16000 loss value =  0.0034884329445303477\n",
      "step =  17000 loss value =  0.0028279259482439784\n",
      "step =  18000 loss value =  0.002292502759549674\n",
      "step =  19000 loss value =  0.0018584602649309402\n",
      "step =  20000 loss value =  0.0015065976634956414\n",
      "step =  21000 loss value =  0.0012213539037637965\n",
      "step =  22000 loss value =  0.0009901154690501826\n",
      "step =  23000 loss value =  0.0008026573727262004\n",
      "step =  24000 loss value =  0.000650690648320937\n",
      "step =  25000 loss value =  0.0005274957147128441\n",
      "step =  26000 loss value =  0.00042762521785292667\n",
      "step =  27000 loss value =  0.0003466631522462732\n",
      "step =  28000 loss value =  0.00028102959365587405\n",
      "step =  29000 loss value =  0.00022782240345544194\n",
      "step =  30000 loss value =  0.0001846889035706972\n",
      "step =  31000 loss value =  0.00014972184731166767\n",
      "step =  32000 loss value =  0.0001213750860487405\n",
      "step =  33000 loss value =  9.839520269159407e-05\n",
      "step =  34000 loss value =  7.976608897252487e-05\n",
      "step =  35000 loss value =  6.466401588653298e-05\n",
      "step =  36000 loss value =  5.2421210622819104e-05\n",
      "step =  37000 loss value =  4.249632945762005e-05\n",
      "step =  38000 loss value =  3.44505209993515e-05\n",
      "step =  39000 loss value =  2.7928021367381162e-05\n",
      "step =  40000 loss value =  2.2640423275800217e-05\n",
      "step =  41000 loss value =  1.8353923443577395e-05\n",
      "step =  42000 loss value =  1.48789844460571e-05\n",
      "step =  43000 loss value =  1.2061953882861327e-05\n",
      "step =  44000 loss value =  9.778270284492479e-06\n",
      "step =  45000 loss value =  7.926955341160374e-06\n",
      "step =  46000 loss value =  6.426148915151909e-06\n",
      "step =  47000 loss value =  5.2094894070222525e-06\n",
      "step =  48000 loss value =  4.223179425221524e-06\n",
      "step =  49000 loss value =  3.4236070110010684e-06\n",
      "step =  50000 loss value =  2.7754172355953537e-06\n",
      "step =  51000 loss value =  2.249948900938841e-06\n",
      "step =  52000 loss value =  1.8239672190201425e-06\n",
      "step =  53000 loss value =  1.4786364324420495e-06\n",
      "step =  54000 loss value =  1.1986869481786023e-06\n",
      "step =  55000 loss value =  9.71740157492239e-07\n",
      "step =  56000 loss value =  7.877610873435462e-07\n",
      "step =  57000 loss value =  6.386146810420595e-07\n",
      "step =  58000 loss value =  5.177060880449883e-07\n",
      "step =  59000 loss value =  4.1968905751077706e-07\n",
      "step =  60000 loss value =  3.402295415517139e-07\n",
      "step =  61000 loss value =  2.758140553656546e-07\n",
      "step =  62000 loss value =  2.2359432044096602e-07\n",
      "step =  63000 loss value =  1.8126132138960765e-07\n",
      "step =  64000 loss value =  1.469432075337036e-07\n",
      "step =  65000 loss value =  1.1912252473251722e-07\n",
      "step =  66000 loss value =  9.656911766690177e-08\n",
      "step =  67000 loss value =  7.828573569857024e-08\n",
      "step =  68000 loss value =  6.34639371460729e-08\n",
      "step =  69000 loss value =  5.144834218069935e-08\n",
      "step =  70000 loss value =  4.170765370331557e-08\n",
      "step =  71000 loss value =  3.381116482481967e-08\n",
      "step =  72000 loss value =  2.7409714172371106e-08\n",
      "step =  73000 loss value =  2.2220246918611647e-08\n",
      "step =  74000 loss value =  1.8013298862596148e-08\n",
      "step =  75000 loss value =  1.4602850143852046e-08\n",
      "step =  76000 loss value =  1.183809994775395e-08\n",
      "step =  77000 loss value =  9.596798501100334e-09\n",
      "step =  78000 loss value =  7.779841518327402e-09\n",
      "step =  79000 loss value =  6.306888077599827e-09\n",
      "step =  80000 loss value =  5.112808163266821e-09\n",
      "\n",
      "Elapsed Time =>  0:00:17.121426\n"
     ]
    }
   ],
   "source": [
    "obj2 = LinearRegressionTest(x_data, t_data, 1e-4, 80001)\n",
    "obj2.train()"
   ]
  },
  {
   "cell_type": "code",
   "execution_count": 9,
   "metadata": {},
   "outputs": [
    {
     "data": {
      "image/png": "[encoded data removed]",
      "text/plain": [
       "<Figure size 432x288 with 1 Axes>"
      ]
     },
     "metadata": {
      "needs_background": "light"
     },
     "output_type": "display_data"
    }
   ],
   "source": [
    "obj2.display_lossval_trend()"
   ]
  }
 ],
 "metadata": {
  "kernelspec": {
   "display_name": "Python 3",
   "language": "python",
   "name": "python3"
  },
  "language_info": {
   "codemirror_mode": {
    "name": "ipython",
    "version": 3
   },
   "file_extension": ".py",
   "mimetype": "text/x-python",
   "name": "python",
   "nbconvert_exporter": "python",
   "pygments_lexer": "ipython3",
   "version": "3.7.6"
  }
 },
 "nbformat": 4,
 "nbformat_minor": 4
}
