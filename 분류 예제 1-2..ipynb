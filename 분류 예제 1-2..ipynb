{
 "cells": [
  {
   "cell_type": "code",
   "execution_count": 1,
   "metadata": {},
   "outputs": [],
   "source": [
    "import numpy as np\n",
    "from datetime import datetime\n",
    "import matplotlib.pyplot as plt\n",
    "\n",
    "np.random.seed(0)"
   ]
  },
  {
   "cell_type": "code",
   "execution_count": 2,
   "metadata": {},
   "outputs": [],
   "source": [
    "def numerical_derivative(f, x):\n",
    "    delta_x = 1e-4 # 0.0001\n",
    "    grad = np.zeros_like(x)\n",
    "    \n",
    "    it = np.nditer(x, flags=['multi_index'], op_flags=['readwrite'])\n",
    "    \n",
    "    while not it.finished:\n",
    "        idx = it.multi_index        \n",
    "        tmp_val = x[idx]\n",
    "        x[idx] = float(tmp_val) + delta_x\n",
    "        fx1 = f(x) # f(x+delta_x)\n",
    "        \n",
    "        x[idx] = float(tmp_val) - delta_x \n",
    "        fx2 = f(x) # f(x-delta_x)\n",
    "        grad[idx] = (fx1 - fx2) / (2*delta_x)\n",
    "        \n",
    "        x[idx] = tmp_val \n",
    "        it.iternext()   \n",
    "        \n",
    "    return grad"
   ]
  },
  {
   "cell_type": "code",
   "execution_count": 3,
   "metadata": {},
   "outputs": [],
   "source": [
    "def sigmoid(x):\n",
    "    return 1 / (1 + np.exp(-x))"
   ]
  },
  {
   "cell_type": "code",
   "execution_count": 4,
   "metadata": {},
   "outputs": [],
   "source": [
    "class ClassificationTest:\n",
    "    def __init__(self, x_data, t_data, learning_rate, iteration_count):\n",
    "        self.x_data = x_data\n",
    "        self.t_data = t_data\n",
    "        \n",
    "        self.learning_rate = learning_rate\n",
    "        self.iteration_count = iteration_count\n",
    "        \n",
    "        self.W = np.random.rand(self.x_data.shape[1], 1)\n",
    "        self.b = np.random.rand(1)\n",
    "        \n",
    "        self.loss_val_list = []\n",
    "        \n",
    "        print(\"ClassificationTest Object is created.\\n\")\n",
    "        \n",
    "    def get_W_b(self):\n",
    "        return self.W, self.b\n",
    "        \n",
    "    def __loss_func(self):\n",
    "        z = np.dot(self.x_data, self.W) + self.b\n",
    "        y = sigmoid(z)\n",
    "    \n",
    "        return (np.sum((self.t_data - y)**2)) / (len(self.x_data))    \n",
    "    # 손실함수 값 계산 함수\n",
    "    # 입력변수 x, t : numpy type\n",
    "    def __loss_val(self):\n",
    "        z = np.dot(self.x_data, self.W) + self.b\n",
    "        y = sigmoid(z)\n",
    "    \n",
    "        return (np.sum((self.t_data - y)**2)) / (len(self.x_data))    \n",
    "\n",
    "    def train(self):\n",
    "        f = lambda x : self.__loss_func()\n",
    "        \n",
    "        print(\"Initial error value = \", self.__loss_val() , \"\\n\", \"Initial W = \", self.W, \"\\n\", \", b = \", self.b)\n",
    "\n",
    "        start_time = datetime.now()\n",
    "\n",
    "        for step in range(self.iteration_count):\n",
    "            self.W -= self.learning_rate * numerical_derivative(f, self.W)\n",
    "            self.b -= self.learning_rate * numerical_derivative(f, self.b)\n",
    "            \n",
    "            if step % 1000 == 0:\n",
    "                print(\"step = \", step, \"loss value = \", self.__loss_val())\n",
    "                self.loss_val_list.append(self.__loss_val())\n",
    "        \n",
    "        end_time = datetime.now()\n",
    "\n",
    "        print(\"\")\n",
    "        print(\"Elapsed Time => \", end_time - start_time)\n",
    "        \n",
    "    def display_lossval_trend(self):\n",
    "        plt.title('Loss Value Trend')\n",
    "        plt.xlabel('epochs ( X 1000)')\n",
    "        plt.ylabel('loss value')\n",
    "        plt.grid()\n",
    "\n",
    "        plt.plot(self.loss_val_list, ls='--', lw=2, label='lr={}, epoch={}'.format(self.learning_rate, self.iteration_count))\n",
    "        plt.legend(loc='best')\n",
    "\n",
    "        plt.show()\n",
    "    \n",
    "    # 학습을 마친 후, 임의의 데이터에 대해 미래 값 예측 함수\n",
    "    # 입력변수 x : numpy type\n",
    "    def predict(self, test_data):\n",
    "        z = np.dot(test_data, self.W) + self.b\n",
    "        y = sigmoid(z)\n",
    "        \n",
    "        if y >= 0.5:\n",
    "            result = 1\n",
    "        else:\n",
    "            result = 0\n",
    "    \n",
    "        return y, result"
   ]
  },
  {
   "cell_type": "code",
   "execution_count": 5,
   "metadata": {},
   "outputs": [
    {
     "name": "stdout",
     "output_type": "stream",
     "text": [
      "x_data.ndim =  2 , x_data.shape =  (10, 1)\n",
      "t_data.ndim =  2 , t_data.shape =  (10, 1)\n"
     ]
    }
   ],
   "source": [
    "try:\n",
    "    x_data = np.array([2, 4, 6, 8, 10, 12, 14, 16, 18, 20]).reshape(10, 1)\n",
    "    t_data = np.array([0, 0, 0, 0, 0, 0, 1, 1, 1, 1]).reshape(10, 1)\n",
    "\n",
    "    print(\"x_data.ndim = \", x_data.ndim, \", x_data.shape = \", x_data.shape)\n",
    "    print(\"t_data.ndim = \", t_data.ndim, \", t_data.shape = \", t_data.shape) \n",
    "\n",
    "except FileNotFoundError as err:\n",
    "    print(str(err))\n",
    "except IndexError as err:\n",
    "    print(str(err))\n",
    "except Exception as err:\n",
    "    print(str(err))"
   ]
  },
  {
   "cell_type": "code",
   "execution_count": 6,
   "metadata": {},
   "outputs": [
    {
     "name": "stdout",
     "output_type": "stream",
     "text": [
      "ClassificationTest Object is created.\n",
      "\n",
      "Initial error value =  11.974518975085063 \n",
      " Initial W =  [[0.5488135]] \n",
      " , b =  [0.71518937]\n",
      "step =  0 loss value =  27.863662731540508\n",
      "step =  1000 loss value =  0.632674094626388\n",
      "step =  2000 loss value =  0.12766853313190404\n",
      "step =  3000 loss value =  0.11895314613766853\n",
      "step =  4000 loss value =  0.11139507245005922\n",
      "step =  5000 loss value =  0.10476729645935566\n",
      "step =  6000 loss value =  0.09890104150691327\n",
      "step =  7000 loss value =  0.09366760947361322\n",
      "step =  8000 loss value =  0.08896677608385663\n",
      "step =  9000 loss value =  0.0847190927748569\n",
      "step =  10000 loss value =  0.08086061637156261\n",
      "step =  11000 loss value =  0.07733920237919427\n",
      "step =  12000 loss value =  0.0741118366806432\n",
      "step =  13000 loss value =  0.07114267544831922\n",
      "step =  14000 loss value =  0.06840157946386861\n",
      "step =  15000 loss value =  0.06586300075713776\n",
      "step =  16000 loss value =  0.06350512493605955\n",
      "step =  17000 loss value =  0.061309202135547844\n",
      "step =  18000 loss value =  0.059259019161046464\n",
      "step =  19000 loss value =  0.05734047873599764\n",
      "step =  20000 loss value =  0.055541260974993525\n",
      "\n",
      "Elapsed Time =>  0:00:08.255835\n"
     ]
    }
   ],
   "source": [
    "obj = ClassificationTest(x_data, t_data, 1e-1, 20001)\n",
    "obj.train()"
   ]
  },
  {
   "cell_type": "code",
   "execution_count": 7,
   "metadata": {},
   "outputs": [
    {
     "name": "stdout",
     "output_type": "stream",
     "text": [
      "ClassificationTest Object is created.\n",
      "\n",
      "Initial error value =  12.515506999781792 \n",
      " Initial W =  [[0.60276338]] \n",
      " , b =  [0.54488318]\n",
      "step =  0 loss value =  9.253782781201112\n",
      "step =  1000 loss value =  1.0769316083698528\n",
      "step =  2000 loss value =  0.786476471453669\n",
      "step =  3000 loss value =  0.6588199487813373\n",
      "step =  4000 loss value =  0.5823921795683434\n",
      "step =  5000 loss value =  0.5297124226684985\n",
      "step =  6000 loss value =  0.4903422413675966\n",
      "step =  7000 loss value =  0.45933357685738835\n",
      "step =  8000 loss value =  0.4339959549639045\n",
      "step =  9000 loss value =  0.412722178461071\n",
      "step =  10000 loss value =  0.3944838720002332\n",
      "step =  11000 loss value =  0.37858756231572505\n",
      "step =  12000 loss value =  0.3645458262988529\n",
      "step =  13000 loss value =  0.35200437141806395\n",
      "step =  14000 loss value =  0.3406984254065923\n",
      "step =  15000 loss value =  0.33042544454442424\n",
      "step =  16000 loss value =  0.3210273739635761\n",
      "step =  17000 loss value =  0.312378739312919\n",
      "step =  18000 loss value =  0.30437842832874745\n",
      "step =  19000 loss value =  0.29694388065674\n",
      "step =  20000 loss value =  0.2900068924533531\n",
      "\n",
      "Elapsed Time =>  0:00:08.635738\n"
     ]
    }
   ],
   "source": [
    "obj1 = ClassificationTest(x_data, t_data, 1e-2, 20001)\n",
    "obj1.train()"
   ]
  },
  {
   "cell_type": "code",
   "execution_count": 8,
   "metadata": {},
   "outputs": [
    {
     "name": "stdout",
     "output_type": "stream",
     "text": [
      "ClassificationTest Object is created.\n",
      "\n",
      "Initial error value =  9.569460086371842 \n",
      " Initial W =  [[0.4236548]] \n",
      " , b =  [0.64589411]\n",
      "step =  0 loss value =  28.001979769364056\n",
      "step =  1000 loss value =  1.0278362228381723\n",
      "step =  2000 loss value =  0.1276537232001611\n",
      "step =  3000 loss value =  0.11894038150553615\n",
      "step =  4000 loss value =  0.11138393566981791\n",
      "step =  5000 loss value =  0.10475748137152886\n",
      "step =  6000 loss value =  0.09889231726414904\n",
      "step =  7000 loss value =  0.09365979799093706\n",
      "step =  8000 loss value =  0.08895973732121899\n",
      "step =  9000 loss value =  0.08471271479995521\n",
      "step =  10000 loss value =  0.08085480845409061\n",
      "step =  11000 loss value =  0.07733389007094281\n",
      "step =  12000 loss value =  0.07410695823435928\n",
      "step =  13000 loss value =  0.07113817916131165\n",
      "step =  14000 loss value =  0.06839742167473775\n",
      "step =  15000 loss value =  0.06585914431225277\n",
      "step =  16000 loss value =  0.06350153800031756\n",
      "step =  17000 loss value =  0.061305857258907415\n",
      "step =  18000 loss value =  0.059255892538138226\n",
      "step =  19000 loss value =  0.05733754961283853\n",
      "step =  20000 loss value =  0.0555385111696141\n",
      "\n",
      "Elapsed Time =>  0:00:09.714072\n"
     ]
    }
   ],
   "source": [
    "obj2 = ClassificationTest(x_data, t_data, 1e-1, 20001)\n",
    "obj2.train()"
   ]
  },
  {
   "cell_type": "code",
   "execution_count": 6,
   "metadata": {},
   "outputs": [
    {
     "name": "stdout",
     "output_type": "stream",
     "text": [
      "ClassificationTest Object is created.\n",
      "\n",
      "Initial error value =  11.974518975085063 \n",
      " Initial W =  [[0.5488135]] \n",
      " , b =  [0.71518937]\n",
      "step =  0 loss value =  27.863662731540508\n",
      "step =  1000 loss value =  0.632674094626388\n",
      "step =  2000 loss value =  0.12766853313190404\n",
      "step =  3000 loss value =  0.11895314613766853\n",
      "step =  4000 loss value =  0.11139507245005922\n",
      "step =  5000 loss value =  0.10476729645935566\n",
      "step =  6000 loss value =  0.09890104150691327\n",
      "step =  7000 loss value =  0.09366760947361322\n",
      "step =  8000 loss value =  0.08896677608385663\n",
      "step =  9000 loss value =  0.0847190927748569\n",
      "step =  10000 loss value =  0.08086061637156261\n",
      "step =  11000 loss value =  0.07733920237919427\n",
      "step =  12000 loss value =  0.0741118366806432\n",
      "step =  13000 loss value =  0.07114267544831922\n",
      "step =  14000 loss value =  0.06840157946386861\n",
      "step =  15000 loss value =  0.06586300075713776\n",
      "step =  16000 loss value =  0.06350512493605955\n",
      "step =  17000 loss value =  0.061309202135547844\n",
      "step =  18000 loss value =  0.059259019161046464\n",
      "step =  19000 loss value =  0.05734047873599764\n",
      "step =  20000 loss value =  0.055541260974993525\n",
      "step =  21000 loss value =  0.053850548678642446\n",
      "step =  22000 loss value =  0.05225880266391867\n",
      "step =  23000 loss value =  0.05075757668445675\n",
      "step =  24000 loss value =  0.04933936394307939\n",
      "step =  25000 loss value =  0.04799746901256813\n",
      "step =  26000 loss value =  0.04672590034082903\n",
      "step =  27000 loss value =  0.045519279545378856\n",
      "step =  28000 loss value =  0.04437276448888385\n",
      "step =  29000 loss value =  0.04328198373303178\n",
      "step =  30000 loss value =  0.042242980439603756\n",
      "step =  31000 loss value =  0.041252164155826936\n",
      "step =  32000 loss value =  0.04030626921222998\n",
      "step =  33000 loss value =  0.03940231869186801\n",
      "step =  34000 loss value =  0.038537593114479345\n",
      "step =  35000 loss value =  0.037709603126952415\n",
      "step =  36000 loss value =  0.03691606561172474\n",
      "step =  37000 loss value =  0.036154882721800605\n",
      "step =  38000 loss value =  0.035424123430612485\n",
      "step =  39000 loss value =  0.034722007250271136\n",
      "step =  40000 loss value =  0.03404688982541596\n",
      "step =  41000 loss value =  0.033397250154433816\n",
      "step =  42000 loss value =  0.032771679226836714\n",
      "step =  43000 loss value =  0.03216886989644056\n",
      "step =  44000 loss value =  0.03158760783587325\n",
      "step =  45000 loss value =  0.031026763439725213\n",
      "step =  46000 loss value =  0.030485284561924352\n",
      "step =  47000 loss value =  0.029962189988626747\n",
      "step =  48000 loss value =  0.029456563560858122\n",
      "step =  49000 loss value =  0.0289675488726039\n",
      "step =  50000 loss value =  0.0284943444795345\n",
      "step =  51000 loss value =  0.02803619956184035\n",
      "step =  52000 loss value =  0.027592409991549608\n",
      "step =  53000 loss value =  0.027162314761105814\n",
      "step =  54000 loss value =  0.026745292734885098\n",
      "step =  55000 loss value =  0.02634075969010224\n",
      "step =  56000 loss value =  0.025948165617473647\n",
      "step =  57000 loss value =  0.0255669922553192\n",
      "step =  58000 loss value =  0.025196750833924007\n",
      "step =  59000 loss value =  0.024836980009496853\n",
      "step =  60000 loss value =  0.024487243969397266\n",
      "step =  61000 loss value =  0.02414713069226294\n",
      "step =  62000 loss value =  0.02381625034846167\n",
      "step =  63000 loss value =  0.023494233827828198\n",
      "step =  64000 loss value =  0.023180731383066422\n",
      "step =  65000 loss value =  0.022875411378257333\n",
      "step =  66000 loss value =  0.022577959133183115\n",
      "step =  67000 loss value =  0.022288075854964076\n",
      "step =  68000 loss value =  0.022005477649425263\n",
      "step =  69000 loss value =  0.02172989460532653\n",
      "step =  70000 loss value =  0.0214610699452909\n",
      "step =  71000 loss value =  0.02119875923777893\n",
      "step =  72000 loss value =  0.020942729665114682\n",
      "step =  73000 loss value =  0.020692759342935456\n",
      "step =  74000 loss value =  0.020448636686900286\n",
      "step =  75000 loss value =  0.020210159822854335\n",
      "step =  76000 loss value =  0.01997713603705095\n",
      "step =  77000 loss value =  0.019749381263287808\n",
      "step =  78000 loss value =  0.019526719604050786\n",
      "step =  79000 loss value =  0.019308982883134367\n",
      "step =  80000 loss value =  0.01909601022726929\n",
      "step =  81000 loss value =  0.018887647674706156\n",
      "step =  82000 loss value =  0.018683747808605797\n",
      "step =  83000 loss value =  0.018484169413543344\n",
      "step =  84000 loss value =  0.018288777153385498\n",
      "step =  85000 loss value =  0.01809744126901338\n",
      "step =  86000 loss value =  0.017910037294483143\n",
      "step =  87000 loss value =  0.017726445790335246\n",
      "step =  88000 loss value =  0.017546552092855633\n",
      "step =  89000 loss value =  0.01737024607815818\n",
      "step =  90000 loss value =  0.017197421940126013\n",
      "step =  91000 loss value =  0.01702797798121703\n",
      "step =  92000 loss value =  0.016861816415326688\n",
      "step =  93000 loss value =  0.016698843181867724\n",
      "step =  94000 loss value =  0.01653896777034887\n",
      "step =  95000 loss value =  0.016382103054749256\n",
      "step =  96000 loss value =  0.016228165137075305\n",
      "step =  97000 loss value =  0.01607707319951611\n",
      "step =  98000 loss value =  0.01592874936462291\n",
      "step =  99000 loss value =  0.015783118563034666\n",
      "step =  100000 loss value =  0.015640108408272194\n",
      "\n",
      "Elapsed Time =>  0:00:36.300226\n"
     ]
    }
   ],
   "source": [
    "obj7 = ClassificationTest(x_data, t_data, 1e-1, 100001)\n",
    "obj7.train()"
   ]
  },
  {
   "cell_type": "code",
   "execution_count": 17,
   "metadata": {},
   "outputs": [
    {
     "data": {
      "text/plain": [
       "(array([0.51950518]), 1)"
      ]
     },
     "execution_count": 17,
     "metadata": {},
     "output_type": "execute_result"
    }
   ],
   "source": [
    "obj7.predict(np.array([13]))"
   ]
  },
  {
   "cell_type": "code",
   "execution_count": 9,
   "metadata": {},
   "outputs": [
    {
     "data": {
      "image/png": "[encoded data removed]",
      "text/plain": [
       "<Figure size 432x288 with 1 Axes>"
      ]
     },
     "metadata": {
      "needs_background": "light"
     },
     "output_type": "display_data"
    }
   ],
   "source": [
    "obj7.display_lossval_trend()"
   ]
  }
 ],
 "metadata": {
  "kernelspec": {
   "display_name": "Python 3",
   "language": "python",
   "name": "python3"
  },
  "language_info": {
   "codemirror_mode": {
    "name": "ipython",
    "version": 3
   },
   "file_extension": ".py",
   "mimetype": "text/x-python",
   "name": "python",
   "nbconvert_exporter": "python",
   "pygments_lexer": "ipython3",
   "version": "3.7.6"
  }
 },
 "nbformat": 4,
 "nbformat_minor": 4
}
